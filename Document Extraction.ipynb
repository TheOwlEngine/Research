{
 "cells": [
  {
   "cell_type": "markdown",
   "metadata": {},
   "source": [
    "# Document Extraction\n",
    "\n",
    "Extract and normalize any information that available inside document, image, or scanned document. The information include extension, mime type, text content, colors, angle rotation, and file size."
   ]
  },
  {
   "cell_type": "markdown",
   "metadata": {},
   "source": [
    "#### Import any used dependencies"
   ]
  },
  {
   "cell_type": "code",
   "execution_count": 64,
   "metadata": {},
   "outputs": [],
   "source": [
    "import re\n",
    "import os\n",
    "import cv2\n",
    "import textract\n",
    "import tempfile\n",
    "import mimetypes\n",
    "import pytesseract\n",
    "import numpy\n",
    "\n",
    "from PIL import Image, ImageStat\n",
    "from colorthief import ColorThief\n",
    "from deskew import determine_skew as DetermineSkew\n",
    "from skimage.color import rgb2gray as Grayscale\n",
    "from skimage.transform import rotate as Rotate\n",
    "from pdf2image import convert_from_path as ConvertToImage"
   ]
  },
  {
   "cell_type": "markdown",
   "metadata": {},
   "source": [
    "#### Straighten Image\n",
    "\n",
    "Utility function to rotate or tilt the image from unsuitable to proper rotation, to help OCR (Optical Character Recognition) engine to read the text."
   ]
  },
  {
   "cell_type": "code",
   "execution_count": 65,
   "metadata": {},
   "outputs": [],
   "source": [
    "def straighten(filepath: str = '', extension: str = '.jpg'):\n",
    "    image     = cv2.imread(filepath, cv2.IMREAD_COLOR)\n",
    "    grayscale = Grayscale(image)\n",
    "    angle     = DetermineSkew(grayscale)\n",
    "    rotated   = Rotate(image, angle, resize = True) * 255\n",
    "    result    = rotated.astype(numpy.uint8)\n",
    "\n",
    "    temporary_filename = tempfile.gettempdir() + extension\n",
    "\n",
    "    cv2.imwrite(temporary_filename, result)\n",
    "\n",
    "    return (temporary_filename, angle)"
   ]
  },
  {
   "cell_type": "markdown",
   "metadata": {},
   "source": [
    "#### Color Extraction\n",
    "\n",
    "Utility function to extract any possible color and type of image (grayscale, colorize, or black white)."
   ]
  },
  {
   "cell_type": "code",
   "execution_count": 66,
   "metadata": {},
   "outputs": [],
   "source": [
    "def colors(filepath, thumb_size=40, error_tolerant=22, adjust_color_bias=True):\n",
    "    color = ColorThief(filepath)\n",
    "\n",
    "    grayscale = False\n",
    "    colorize = False\n",
    "    black_white = False\n",
    "\n",
    "    image = Image.open(filepath)\n",
    "    bands = image.getbands()\n",
    "\n",
    "    if bands == ('R', 'G', 'B') or bands == ('R', 'G', 'B', 'A'):\n",
    "        thumb = image.resize((thumb_size, thumb_size))\n",
    "        factor, bias = 0, [0, 0, 0]\n",
    "\n",
    "        if adjust_color_bias:\n",
    "            bias = ImageStat.Stat(thumb).mean[:3]\n",
    "            bias = [b - sum(bias)/3 for b in bias]\n",
    "\n",
    "        for pixel in thumb.getdata():\n",
    "            mu = sum(pixel)/3\n",
    "            factor += sum(\n",
    "                (pixel[i] - mu - bias[i]) *\n",
    "                (pixel[i] - mu - bias[i]) for i in [0, 1, 2]\n",
    "            )\n",
    "\n",
    "        # MSE = Mean Square Error\n",
    "        MSE = float(factor)/(thumb_size*thumb_size)\n",
    "\n",
    "        if MSE <= error_tolerant:\n",
    "            grayscale = True\n",
    "        else:\n",
    "            colorize = True\n",
    "\n",
    "    elif len(bands) == 1:\n",
    "        black_white = True\n",
    "    else:\n",
    "        pass\n",
    "\n",
    "    dominant_color = []\n",
    "\n",
    "    for palette in color.get_palette(color_count=6):\n",
    "        palette_list = []\n",
    "\n",
    "        for pixel in palette:\n",
    "            palette_list.append(str(pixel))\n",
    "        \n",
    "        dominant_color.append('rgb({})'.format(','.join(palette_list)))\n",
    "\n",
    "    return {\n",
    "        'grayscale': grayscale,\n",
    "        'colorize': colorize,\n",
    "        'black_white': black_white,\n",
    "        'dominant': dominant_color\n",
    "    }"
   ]
  },
  {
   "cell_type": "markdown",
   "metadata": {},
   "source": [
    "#### Extraction Function\n",
    "\n",
    "A main function to extract any information using OCR engine and some of utilities above.\n",
    "\n",
    "Supported Extension .csv .doc .docx .epub .gif .jpg .jpeg .json .html .htm .odt .pdf .png .pptx .rtf .tiff .tif .txt .xlsx .xls"
   ]
  },
  {
   "cell_type": "code",
   "execution_count": 83,
   "metadata": {},
   "outputs": [],
   "source": [
    "\n",
    "def extract(filepath: str = ''):    \n",
    "\n",
    "    name, extension = os.path.splitext(filepath)\n",
    "    mime = mimetypes.guess_type(filepath)\n",
    "    mime = mime[0] # root of mime type\n",
    "    angle = 0\n",
    "    encoding = 'utf-8'\n",
    "    colorize = None\n",
    "\n",
    "    try:\n",
    "        colorize = colors(filepath=filepath)\n",
    "    except:\n",
    "        pass\n",
    "\n",
    "    content = textract.process(filename=filepath, encoding=encoding, extension=extension).strip()\n",
    "\n",
    "    if len(content) == 0:\n",
    "        try:\n",
    "            pages = ConvertToImage(filepath)\n",
    "            page_string = ''\n",
    "\n",
    "            for _, page_image in enumerate(pages):\n",
    "                page_string += str(pytesseract.image_to_string(page_image))\n",
    "\n",
    "            if len(page_string) > 0:\n",
    "                mime = 'application/pdf'\n",
    "                extension = '.pdf'\n",
    "                content = page_string\n",
    "        except:\n",
    "            pass\n",
    "\n",
    "    if len(content) == 0:\n",
    "        (straighted, angle) = straighten(filepath=filepath, extension=extension)\n",
    "        content = textract.process(filename=straighted, encoding=encoding, extension=extension).strip()\n",
    "\n",
    "        os.remove(straighted)\n",
    "\n",
    "    size = os.stat(filepath).st_size\n",
    "\n",
    "    try:\n",
    "        content = content.decode(encoding)\n",
    "    except:\n",
    "        pass\n",
    "\n",
    "    try:\n",
    "        content = str(content, encoding)\n",
    "    except:\n",
    "        pass\n",
    "\n",
    "    regex_multiple_dots = r'\\.{2,}'\n",
    "    regex_splitted_text = r'^([0-9])\\n([a-zA-Z])'\n",
    "    regex_splitted_alpha = r'^([a-zA-Z])\\n\\n?([a-zA-Z])'\n",
    "    regex_splitted_romanian = r'\\s((m{0,4}(cm|cd|d?c{0,3})(xc|xl|l?x{0,3})(ix|iv|v?i{0,3}))|(M{0,4}(CM|CD|D?C{0,3})(XC|XL|L?X{0,3})(IX|IV|V?I{0,3}))|\\d+)\\.\\s'\n",
    "    regex_splitted_references = r'\\[(.*?)\\]\\s?\\n(.*?)\\n'\n",
    "    regex_lowercase_romanian = r'((m{0,4}(cm|cd|d?c{0,3})(xc|xl|l?x{0,3})(ix|iv|v?i{0,3}))|\\d+)\\)\\n([A-Z])'\n",
    "    regex_uppercase_romanian = r'((M{0,4}(CM|CD|D?C{0,3})(XC|XL|L?X{0,3})(IX|IV|V?I{0,3}))|\\d+)\\.\\n([A-Z])'\n",
    "\n",
    "    content = re.sub(\n",
    "        regex_multiple_dots, '', re.sub(\n",
    "            regex_splitted_text, '\\g<1>. \\g<2>', re.sub(\n",
    "                regex_splitted_alpha, '\\g<1>\\g<2>', re.sub(\n",
    "                    regex_splitted_romanian, '\\n\\g<1>. ', re.sub(\n",
    "                        regex_splitted_references, '[\\\\g<1>](\\\\g<2>)\\n', re.sub(\n",
    "                            regex_lowercase_romanian, '\\g<1>) \\g<6>', re.sub( \n",
    "                                regex_uppercase_romanian, '\\g<1>. \\g<6>', content\n",
    "                            , 0, re.MULTILINE)\n",
    "                        , 0, re.MULTILINE)\n",
    "                    , 0, re.MULTILINE)\n",
    "                , 0, re.MULTILINE)\n",
    "            , 0, re.MULTILINE)\n",
    "        , 0, re.MULTILINE)\n",
    "    , 0, re.MULTILINE)\n",
    "\n",
    "    bracket = ''\n",
    "\n",
    "    for line in content.split('\\n'):\n",
    "        line_has_formula = re.search(r'\\s{2}\\s+', line)\n",
    "\n",
    "        if re.search(r'^([0-9a-zA-Z]|\\[)', line) and len(line) > 7.5 and line_has_formula == None:\n",
    "            bracket += line + '\\n\\n'\n",
    "\n",
    "    content = re.sub(r'([\\w\\W]{10})\\n{2}([\\w\\W])', '\\g<1> \\g<2>', bracket).strip()\n",
    "\n",
    "    return {\n",
    "        'format': extension,\n",
    "        'mime'  : mime,\n",
    "        'color' : colorize,\n",
    "        'angle' : angle,\n",
    "        'size'  : size,\n",
    "        'text'  : content\n",
    "    }"
   ]
  },
  {
   "cell_type": "markdown",
   "metadata": {},
   "source": [
    "#### Handwritten Image\n",
    "\n",
    "<img alt=\"Image\" style=\"width:400px;\" src=\"https://github.com/TheOwlEngine/Research/blob/main/test/images/01-handwritten.png?raw=true\"/>"
   ]
  },
  {
   "cell_type": "code",
   "execution_count": 84,
   "metadata": {},
   "outputs": [
    {
     "data": {
      "text/plain": [
       "{'format': '.png',\n",
       " 'mime': 'image/png',\n",
       " 'color': {'grayscale': False,\n",
       "  'colorize': True,\n",
       "  'black_white': False,\n",
       "  'dominant': ['rgb(167,167,167)',\n",
       "   'rgb(34,34,34)',\n",
       "   'rgb(84,84,84)',\n",
       "   'rgb(109,109,109)',\n",
       "   'rgb(92,92,92)',\n",
       "   'rgb(124,124,124)']},\n",
       " 'angle': 0,\n",
       " 'size': 261736,\n",
       " 'text': 'This is a handwritten Write as qooal as you can.'}"
      ]
     },
     "execution_count": 84,
     "metadata": {},
     "output_type": "execute_result"
    }
   ],
   "source": [
    "extract(filepath='./test/images/01-handwritten.png')"
   ]
  },
  {
   "cell_type": "markdown",
   "metadata": {},
   "source": [
    "#### Receipt Image\n",
    "\n",
    "<img alt=\"Image\" style=\"width:400px;\" src=\"https://github.com/TheOwlEngine/Research/blob/main/test/images/02-receipt.png?raw=true\"/>"
   ]
  },
  {
   "cell_type": "code",
   "execution_count": 85,
   "metadata": {},
   "outputs": [
    {
     "data": {
      "text/plain": [
       "{'format': '.png',\n",
       " 'mime': 'image/png',\n",
       " 'color': {'grayscale': True,\n",
       "  'colorize': False,\n",
       "  'black_white': False,\n",
       "  'dominant': ['rgb(84,84,76)',\n",
       "   'rgb(140,140,132)',\n",
       "   'rgb(52,36,36)',\n",
       "   'rgb(196,188,188)',\n",
       "   'rgb(20,12,12)',\n",
       "   'rgb(68,44,20)']},\n",
       " 'angle': 0,\n",
       " 'size': 48514,\n",
       " 'text': 'Store #05666 3515 DEL MAR HTS,RD SAN DIEGO, CA 92130 Register #4 Transaction #571140 Cashier #56661020 8/20/17 5:45PM wellness+ with Plenti Plenti Card#: 31XXXXXXXXXX4553 1 G2 RETRACT BOLD BLK 2PK 1.99 T SALE 1/1.99, Reg 1/4.69 Discount 2.70- 1 Items Subtotal 1.99 xMASTER* 2.14 MASTER card * #XXXXXXXXXXXX548S App #AA APPROVAL AUTO Ref # 05639E Entry Method: Chip'}"
      ]
     },
     "execution_count": 85,
     "metadata": {},
     "output_type": "execute_result"
    }
   ],
   "source": [
    "extract(filepath='./test/images/02-receipt.png')"
   ]
  },
  {
   "cell_type": "markdown",
   "metadata": {},
   "source": [
    "#### Alpha Numeric Image\n",
    "\n",
    "<img alt=\"Image\" style=\"width:400px;\" src=\"https://github.com/TheOwlEngine/Research/blob/main/test/images/03-numeric.png?raw=true\"/>"
   ]
  },
  {
   "cell_type": "code",
   "execution_count": 86,
   "metadata": {},
   "outputs": [
    {
     "data": {
      "text/plain": [
       "{'format': '.png',\n",
       " 'mime': 'image/png',\n",
       " 'color': {'grayscale': False,\n",
       "  'colorize': False,\n",
       "  'black_white': True,\n",
       "  'dominant': ['rgb(7,7,7)',\n",
       "   'rgb(145,145,145)',\n",
       "   'rgb(251,251,251)',\n",
       "   'rgb(109,109,109)',\n",
       "   'rgb(196,196,196)',\n",
       "   'rgb(124,124,124)']},\n",
       " 'angle': 0,\n",
       " 'size': 6552,\n",
       " 'text': '01234567890'}"
      ]
     },
     "execution_count": 86,
     "metadata": {},
     "output_type": "execute_result"
    }
   ],
   "source": [
    "extract(filepath='./test/images/03-numeric.png')"
   ]
  },
  {
   "cell_type": "markdown",
   "metadata": {},
   "source": [
    "#### Paragraph Image\n",
    "\n",
    "<img alt=\"Image\" style=\"width:400px;\" src=\"https://github.com/TheOwlEngine/Research/blob/main/test/images/04-paragraph.png?raw=true\"/>"
   ]
  },
  {
   "cell_type": "code",
   "execution_count": 87,
   "metadata": {},
   "outputs": [
    {
     "data": {
      "text/plain": [
       "{'format': '.png',\n",
       " 'mime': 'image/png',\n",
       " 'color': {'grayscale': True,\n",
       "  'colorize': False,\n",
       "  'black_white': False,\n",
       "  'dominant': ['rgb(214,214,214)',\n",
       "   'rgb(79,79,79)',\n",
       "   'rgb(14,14,14)',\n",
       "   'rgb(120,120,120)',\n",
       "   'rgb(60,60,60)',\n",
       "   'rgb(100,100,100)']},\n",
       " 'angle': 0,\n",
       " 'size': 70313,\n",
       " 'text': 'Now we are creating an OCR for handwritten Bengali text. The main problem arises due to the fact that we are doing it for handwritten text. So our sample set is very infinite. Also different samples have different characteristics. The handwriting samples are collected from different persons, hence it is very unlikely that they will follow a similar pattern.'}"
      ]
     },
     "execution_count": 87,
     "metadata": {},
     "output_type": "execute_result"
    }
   ],
   "source": [
    "extract(filepath='./test/images/04-paragraph.png')"
   ]
  },
  {
   "cell_type": "markdown",
   "metadata": {},
   "source": [
    "#### Gradient Image\n",
    "\n",
    "<img alt=\"Image\" style=\"width:400px;\" src=\"https://github.com/TheOwlEngine/Research/blob/main/test/images/05-gradient.png?raw=true\"/>"
   ]
  },
  {
   "cell_type": "code",
   "execution_count": 88,
   "metadata": {},
   "outputs": [
    {
     "data": {
      "text/plain": [
       "{'format': '.png',\n",
       " 'mime': 'image/png',\n",
       " 'color': {'grayscale': False,\n",
       "  'colorize': True,\n",
       "  'black_white': False,\n",
       "  'dominant': ['rgb(221,221,212)',\n",
       "   'rgb(49,56,81)',\n",
       "   'rgb(121,69,46)',\n",
       "   'rgb(121,155,189)',\n",
       "   'rgb(171,127,81)',\n",
       "   'rgb(84,148,204)']},\n",
       " 'angle': 0,\n",
       " 'size': 149082,\n",
       " 'text': 'Having just recently reviewed the ATI Radeo: we were Keen to get our hands on the cheape 5850. Though both cards were announced | week until the Radeon 1-ID 5850 could be sh« have finally dug up a production model from'}"
      ]
     },
     "execution_count": 88,
     "metadata": {},
     "output_type": "execute_result"
    }
   ],
   "source": [
    "extract(filepath='./test/images/05-gradient.png')"
   ]
  },
  {
   "cell_type": "markdown",
   "metadata": {},
   "source": [
    "#### PDF File (Scanned)"
   ]
  },
  {
   "cell_type": "code",
   "execution_count": 89,
   "metadata": {},
   "outputs": [
    {
     "data": {
      "text/plain": [
       "{'format': '.pdf',\n",
       " 'mime': 'application/pdf',\n",
       " 'color': None,\n",
       " 'angle': 0,\n",
       " 'size': 21530,\n",
       " 'text': 'THE SLEREXE COMPANY LIMITED SAPORS LANE - BOOLE - DORSET - BH 25 8ER TELEPHONE BOOLE (945 13) 51617 - TELEX 123456 Our Ref. 350/PJC/EAC 18th January, Dr. P.N. Cundall, Mining Surveys Ltd., Holroyd Road, Reading,\\n\\nDear Pete, Permit me to introduce you to the facility of facsimile transmission. In facsimile a photocell is caused to perform a raster scan over the subject copy. The variations of print density on the document cause the photocell to generate an analogous electrical video signal. This signal is used to modulate a carrier, which is transmitted to a remote destination over a radio or cable communications link. At the remote terminal, demodulation reconstructs the video signal, which is used to modulate the density of print produced by a printing device. This device is scanning in a raster scan synchronised with that at the transmitting terminal. As a result, a facsimile copy of the subject document is produced. Probably you have uses for this facility in your organisation. Yours sincerely, ThA. P.J. CROSS Group Leader - Facsimile Research Registered in England: No. 2088 No. 1 Registered Office: 6O Vicara Lane, Ilford. Eseex,'}"
      ]
     },
     "execution_count": 89,
     "metadata": {},
     "output_type": "execute_result"
    }
   ],
   "source": [
    "extract(filepath='./test/images/06-scan-document.pdf')"
   ]
  },
  {
   "cell_type": "markdown",
   "metadata": {},
   "source": [
    "#### Skewed Book\n",
    "\n",
    "<img alt=\"Image\" style=\"width:400px;\" src=\"https://github.com/TheOwlEngine/Research/blob/main/test/images/08-book-skew.jpg?raw=true\"/>"
   ]
  },
  {
   "cell_type": "code",
   "execution_count": 90,
   "metadata": {},
   "outputs": [
    {
     "data": {
      "text/plain": [
       "{'format': '.jpg',\n",
       " 'mime': 'image/jpeg',\n",
       " 'color': {'grayscale': False,\n",
       "  'colorize': True,\n",
       "  'black_white': False,\n",
       "  'dominant': ['rgb(39,53,93)',\n",
       "   'rgb(211,197,187)',\n",
       "   'rgb(199,155,116)',\n",
       "   'rgb(145,77,74)',\n",
       "   'rgb(167,122,70)',\n",
       "   'rgb(124,127,158)']},\n",
       " 'angle': 0,\n",
       " 'size': 3685140,\n",
       " 'text': 't) Tim P | enyusun NAMA :Deiia juniyAnti “Nn { FEELAS :XI| MIPA 1 BELAJAR PRAKTIS PENDIDIKAN PANCASILA DAN KEWARGANEG MATA PELAJARAN WAJIB Untuk SMA/MA Kelas XI Semester 1 Dilengkapi dengan: Aktivitas\\n\\nUji Kompetensi Penilaian Diri Penilaian Harian Remedial dan Pengayaan Penilaian Tengah Semester Penilaian Akhir Semester yA W iicsat Fears GUN (4'}"
      ]
     },
     "execution_count": 90,
     "metadata": {},
     "output_type": "execute_result"
    }
   ],
   "source": [
    "extract(filepath='./test/images/08-book-skew.jpg')"
   ]
  },
  {
   "cell_type": "markdown",
   "metadata": {},
   "source": [
    "#### Rotated Book\n",
    "\n",
    "<img alt=\"Image\" style=\"width:400px;\" src=\"https://github.com/TheOwlEngine/Research/blob/main/test/images/09-book-rotated.jpg?raw=true\"/>"
   ]
  },
  {
   "cell_type": "code",
   "execution_count": 91,
   "metadata": {},
   "outputs": [
    {
     "data": {
      "text/plain": [
       "{'format': '.jpg',\n",
       " 'mime': 'image/jpeg',\n",
       " 'color': {'grayscale': False,\n",
       "  'colorize': True,\n",
       "  'black_white': False,\n",
       "  'dominant': ['rgb(43,53,94)',\n",
       "   'rgb(213,199,188)',\n",
       "   'rgb(202,156,117)',\n",
       "   'rgb(143,76,75)',\n",
       "   'rgb(124,127,158)',\n",
       "   'rgb(166,119,71)']},\n",
       " 'angle': -27.0,\n",
       " 'size': 3799030,\n",
       " 'text': 'Tim Penyusun NAMA :Deia yunyanti -N EELAS -X! MIPA | BELAJAR PRAKTIS PENDIDIKAN PANCASILA DAN KEWARGANEGARAAN MATA PELAJARAN WAJIB Intuk. SMA/MA Kelas XI semester | Dilengkapi dengan: ; Aktivitas [ Uji Kompetensi i Penilaian Diri Penilaian Harian Remedial dan Pengayaan Penilaian Tengah Semester Penilaian Akhir Semester'}"
      ]
     },
     "execution_count": 91,
     "metadata": {},
     "output_type": "execute_result"
    }
   ],
   "source": [
    "extract(filepath='./test/images/09-book-rotated.jpg')"
   ]
  },
  {
   "cell_type": "markdown",
   "metadata": {},
   "source": [
    "#### Straighted Book\n",
    "\n",
    "<img alt=\"Image\" style=\"width:400px;\" src=\"https://github.com/TheOwlEngine/Research/blob/main/test/images/10-book-straight.jpg?raw=true\"/>"
   ]
  },
  {
   "cell_type": "code",
   "execution_count": 92,
   "metadata": {},
   "outputs": [
    {
     "data": {
      "text/plain": [
       "{'format': '.jpg',\n",
       " 'mime': 'image/jpeg',\n",
       " 'color': {'grayscale': False,\n",
       "  'colorize': True,\n",
       "  'black_white': False,\n",
       "  'dominant': ['rgb(210,197,188)',\n",
       "   'rgb(44,49,90)',\n",
       "   'rgb(204,157,116)',\n",
       "   'rgb(71,179,222)',\n",
       "   'rgb(140,76,75)',\n",
       "   'rgb(168,124,70)']},\n",
       " 'angle': 0,\n",
       " 'size': 3783865,\n",
       " 'text': 'Tim Penyusun NAMA :Deia \\\\uiyanti-n EELAS : XI MIPA | BELAJAR PRAKTIS PENDIDIKAN PANCASILA DAN KEWARGANEGARAAN — MATA PELAJARAN WAVIB Untuk SMA/MA Kelas XI Semester 1 Dilengkapi dengan: Aktivitas\\n\\nPenilaian Diri Penilaian Harian Remedial dan Pengayaan Penilaian Tengah Semester Penilaian Akhir Semester dooa Thins\\n\\nA REE LL ETN'}"
      ]
     },
     "execution_count": 92,
     "metadata": {},
     "output_type": "execute_result"
    }
   ],
   "source": [
    "extract(filepath='./test/images/10-book-straight.jpg')"
   ]
  },
  {
   "cell_type": "markdown",
   "metadata": {},
   "source": [
    "#### PDF File (simple)"
   ]
  },
  {
   "cell_type": "code",
   "execution_count": 93,
   "metadata": {},
   "outputs": [
    {
     "data": {
      "text/plain": [
       "{'format': '.pdf',\n",
       " 'mime': 'application/pdf',\n",
       " 'color': None,\n",
       " 'angle': 0,\n",
       " 'size': 20597,\n",
       " 'text': 'PDF Test File Congratulations, your computer is equipped with a PDF (Portable Document Format) reader! You should be able to view any of the PDF documents and forms available on our site. PDF forms are indicated by these icons: Box 2703\\n\\nWhitehorse,Yukon Please visit our website at: http://www.education.gov.yk.ca/'}"
      ]
     },
     "execution_count": 93,
     "metadata": {},
     "output_type": "execute_result"
    }
   ],
   "source": [
    "extract(filepath='./test/pdf/01-simple.pdf')"
   ]
  },
  {
   "cell_type": "markdown",
   "metadata": {},
   "source": [
    "#### PDF File (text & image)"
   ]
  },
  {
   "cell_type": "code",
   "execution_count": 94,
   "metadata": {},
   "outputs": [
    {
     "data": {
      "text/plain": [
       "{'format': '.pdf',\n",
       " 'mime': 'application/pdf',\n",
       " 'color': None,\n",
       " 'angle': 0,\n",
       " 'size': 69432,\n",
       " 'text': 'Welcome to Smallpdf Ready to take document management to the next level? Digital Documents—All In One Place With the new Smallpdf experience, you can freely upload, organize, and share digital documents. When you enable the ‘Storage’ option, we’ll also store all processed files here. Enhance Documents in One Click When you right-click on a file, we’ll present you with an array of options to convert, compress, or modify it. Access Files Anytime, Anywhere You can access files stored on Smallpdf from your computer, phone, or tablet. We’ll also sync files from the Smallpdf Mobile App to our online portal Collaborate With Others Forget mundane administrative tasks. With Smallpdf, you can request e-signatures, send large files, or even enable the Smallpdf G Suite App for your entire organization.'}"
      ]
     },
     "execution_count": 94,
     "metadata": {},
     "output_type": "execute_result"
    }
   ],
   "source": [
    "extract(filepath='./test/pdf/02-text-image.pdf')"
   ]
  },
  {
   "cell_type": "markdown",
   "metadata": {},
   "source": [
    "#### PDF File (invoice)"
   ]
  },
  {
   "cell_type": "code",
   "execution_count": 95,
   "metadata": {},
   "outputs": [
    {
     "data": {
      "text/plain": [
       "{'format': '.pdf',\n",
       " 'mime': 'application/pdf',\n",
       " 'color': None,\n",
       " 'angle': 0,\n",
       " 'size': 43627,\n",
       " 'text': 'DEMO - Sliced Invoices Suite 5A-1204 123 Somewhere Street Your City AZ 12345 admin@slicedinvoices.com Invoice Number INV-3337\\n\\nOrder Number Invoice Date January 25, 2016 Due Date\\n\\nJanuary 31, 2016 Total Due\\n\\nWeb Design This is a sample description ANZ Bank\\n\\nACC # 1234 1234 BSB # 4321 432 Test Business 123 Somewhere St Melbourne, VIC 3000 test@test.com Rate/Price\\n\\nSub Total Sub Total\\n\\nPayment is due within 30 days from date of invoice. Late payment is subject to fees of 5% per month. Thanks for choosing DEMO - Sliced Invoices | admin@slicedinvoices.com Page 1/1'}"
      ]
     },
     "execution_count": 95,
     "metadata": {},
     "output_type": "execute_result"
    }
   ],
   "source": [
    "extract(filepath='./test/pdf/03-invoice.pdf')"
   ]
  },
  {
   "cell_type": "markdown",
   "metadata": {},
   "source": [
    "#### XLS File"
   ]
  },
  {
   "cell_type": "code",
   "execution_count": 96,
   "metadata": {},
   "outputs": [
    {
     "data": {
      "text/plain": [
       "{'format': '.xls',\n",
       " 'mime': 'application/vnd.ms-excel',\n",
       " 'color': None,\n",
       " 'angle': 0,\n",
       " 'size': 16384,\n",
       " 'text': 'MC What is 2+2? 4.0 correct 3.0 incorrect MA What C datatypes are 8 bits? (assume i386) int float double char TF Bagpipes are awesome. true ESS How have the original Henry Hornbostel buildings influenced campus architecture and design in the last 30 years? ORD Rank the following in their order of operation. Parentheses Exponents Division Addition FIB The student activities fee is 95.0 dollars for students enrolled in 19.0 units or more, MAT Match the lower-case greek letter with its capital form. λ Λ α γ Γ φ Φ http://www.cmu.edu/blackboard Question Format Abbreviations Abbreviation Question Type MC Multiple Choice MA Multiple Answer TF True/False ESS Essay\\n\\nORD Ordering MAT Matching FIB Fill in the Blank FIL File response NUM Numeric Response SR Short response OP Opinion\\n\\nFIB_PLUS Multiple Fill in the Blank JUMBLED_SENTENCE Jumbled Sentence QUIZ_BOWL Quiz Bowl http://www.cmu.edu/blackboard File Information http://www.cmu.edu/blackboard/files/evaluate/tests-example.xls 1.0 (January 2012) Contact bb-help@andrew.cmu.edu This is an example and template for preparing Blackboard tests offline. See the full directions at: http://www.cmu.edu/blackboard/evaluate#manage_tests/import_questions'}"
      ]
     },
     "execution_count": 96,
     "metadata": {},
     "output_type": "execute_result"
    }
   ],
   "source": [
    "extract(filepath='./test/xls/01-tests.xls')"
   ]
  },
  {
   "cell_type": "markdown",
   "metadata": {},
   "source": [
    "#### DOC File"
   ]
  },
  {
   "cell_type": "code",
   "execution_count": 97,
   "metadata": {},
   "outputs": [
    {
     "data": {
      "text/plain": [
       "{'format': '.doc',\n",
       " 'mime': 'application/msword',\n",
       " 'color': None,\n",
       " 'angle': 0,\n",
       " 'size': 4767232,\n",
       " 'text': '[pic](Curabitur bibendum ante urna, sed blandit libero  egestas  id.  Pellentesque) rhoncus elit in lacus ultrices fringilla. Nam  ac  metus  eu  turpis  mattis rutrum.  Mauris  mattis  sem  ex,  facilisis  molestie  sapien  luctus  non. Vestibulum tincidunt urna at odio suscipit, vel congue felis  cursus.  Etiam tellus magna, egestas ac suscipit in, laoreet quis felis. Proin non orci  id dui tincidunt egestas. Vestibulum eleifend, ligula a scelerisque vehicula,  risus  justo  ultricies ligula, et interdum lorem ex eget  ex.  Duis  dignissim  lacus  vitae  velit laoreet, vitae placerat velit aliquet. Etiam eget mollis nulla, ac  vehicula mi. Etiam non sollicitudin velit, imperdiet commodo mi.  Fusce  quis  tellus tellus. Donec dictum euismod risus non tempus. Duis quis pellentesque  nunc. Praesent elementum condimentum mollis. Phasellus dapibus quam a hendrerit placerat. Sed ultrices blandit nulla  sed sodales. Nunc  quis  volutpat  eros.  Etiam  bibendum  eu  tellus  consequat tristique mauris ut aliquam. Donec purus  odio,  molestie  id  suscipit  sit amet, porttitor in erat. Vestibulum ut tellus vel mi lobortis porta nec  vel tellus. Quisque pretium blandit dignissim. Proin eu metus  convallis  sapien efficitur mollis. Nunc luctus ex in nunc ornare, nec blandit orci  faucibus. Aenean bibendum mi vel  neque  euismod  hendrerit.  Vestibulum  ac  pharetra magna. Ut rutrum, orci at blandit faucibus, justo mauris iaculis mauris,  ut tempor lectus risus at ligula. Duis non tincidunt purus. Nam quis  sapien  risus.  Donec  mattis  convallis tempor. Fusce aliquam aliquet eros, nec rutrum lectus pretium  at.  Praesent blandit justo a  mi  dignissim  placerat.  Ut  ullamcorper  elit  eget  diam maximus iaculis. In bibendum in massa eget facilisis. In iaculis lectus nec neque vehicula, ac molestie  ante  ornare.  Sed  sit  amet  sem  mollis, egestas justo ac, rhoncus nunc. In in  aliquam  ante,  non  imperdiet  ante. Mauris in sapien ut quam hendrerit mollis.  Proin  feugiat  dignissim  nisi, sed tincidunt ante aliquam et. Integer finibus et augue a tempus. Nullam facilisis quis nisl sit amet  iaculis.  Integer  hendrerit  metus  in faucibus aliquet.  Donec  fermentum,  lacus  lobortis  pulvinar  vestibulum, felis ipsum auctor mi, ac pulvinar lacus magna semper ligula.  Proin  mollis eros turpis, vel iaculis velit lobortis vitae. Nam hendrerit arcu  quam,  ac feugiat massa semper  eu.  Nullam  quis  feugiat  nisl.  Praesent  fringilla luctus purus non pulvinar. Donec accumsan purus libero, eget  maximus  purus consequat faucibus. Maecenas porta consectetur magna non commodo. Class aptent taciti sociosqu ad litora  torquent  per  conubia  nostra,  per inceptos himenaeos. Ut facilisis nibh  quis  pellentesque  dapibus.  Aliquam vulputate porta ex, eu convallis neque luctus a. Vivamus  egestas  dignissim neque, ac vestibulum tortor  finibus  eu.  In  condimentum  lorem  ac  nulla bibendum, sit amet dapibus nisl maximus. Donec eu neque  nec  enim  eleifend dictum vitae eu orci. Maecenas id consequat  augue,  congue  molestie  nibh. Proin in mi et nunc bibendum convallis. Nullam  eu  sagittis  elit.  Quisque interdum turpis at nulla mollis, quis ultricies lacus rutrum.  Sed  molestie accumsan metus, ut rutrum mi ullamcorper sed. Vivamus eu  imperdiet  mauris, in pulvinar orci. Cras nec feugiat velit. Curabitur  varius  mattis  mi,  ac rutrum ligula convallis lacinia. Phasellus iaculis  diam  quam,  et  egestas libero mollis sed. Duis vel erat dolor. Phasellus ut sem non elit tempor  convallis.  Nunc  non fermentum leo, eget rhoncus eros. Mauris varius condimentum  metus,  aliquet vulputate quam vestibulum sed. Etiam vel diam nec velit viverra  laoreet  id eu purus. Nunc vulputate magna ac nisl tempor bibendum. Morbi  vitae  tempor velit. Nam auctor nisi est, id pharetra leo accumsan  quis.  Suspendisse  id urna libero. Curabitur congue ante ut lorem  placerat  hendrerit.  Phasellus pellentesque faucibus mattis. Integer cursus egestas ligula ac sodales.  Nam blandit massa sit amet ex venenatis aliquam.  Integer  aliquam,  lorem  quis bibendum rhoncus, leo tortor tempus lorem, a lobortis eros ligula ac  massa. Nam non magna vitae quam mattis ultrices a quis elit. Etiam egestas dictum risus. Curabitur nec finibus erat. Sed  vel  risus  nec vestibulum sit amet quam id  eleifend.  Nulla  condimentum  nulla  vel  erat eleifend, et ornare  lectus  imperdiet.  Nam  rutrum  fringilla  risus,  nec sollicitudin risus rhoncus ut. Nunc suscipit eros non massa  luctus  congue. Vivamus vulputate varius sagittis. In in elit at lorem volutpat  semper.  Aliquam  mollis,  justo  ut  pharetra condimentum, nisl velit mollis eros, sed congue nulla nisi sit  amet  magna. Donec cursus ornare lectus faucibus iaculis. Nulla  non  ultrices  quam.  In sodales lorem ac justo dapibus ullamcorper. Suspendisse potenti.  Sed  vitae urna eget eros sagittis auctor eget ac lorem. Sed id velit justo. Mauris vel pharetra lacus. Duis eleifend  nisl  nisl,  sit  amet  mattis  mi ultricies at. Vestibulum a porta neque. Donec eu feugiat orci. Nunc  lacinia aliquet metus rhoncus  convallis.  Aenean  efficitur  mi  eu  nunc  placerat blandit. Sed ac nisi sapien. Nullam molestie risus eu nibh posuere aliquam. Nunc accumsan, leo eget vestibulum gravida, urna ipsum  semper  ligula,  non porttitor urna leo quis tortor. Fusce lobortis in  metus  mollis  dignissim. Vestibulum a sollicitudin turpis. Vivamus sed  lectus  et  eros  ullamcorper egestas.  Duis  tincidunt  sem  sit  amet  suscipit  ultrices.  Pellentesque dignissim odio quam a ex. Proin commodo nibh id ultricies  convallis.  Morbi mi. Maecenas eu leo justo. Suspendisse sagittis turpis mauris,  sit  amet  euismod  ligula  porta  sed. Nulla in venenatis felis. Fusce in semper lacus. Nullam convallis sapien  ac scelerisque mollis. Donec semper massa eu lacinia dapibus.  Nulla  facilisi. Duis et eros  vitae  tellus  congue  aliquet.  Aliquam  ac  augue  molestie, dapibus enim  ut,  tincidunt  velit.  Etiam  sollicitudin  purus  sed  purus ultricies, ultrices eleifend purus vulputate. In  quis  ex  sit  amet  magna cursus posuere id sit amet purus. Integer dui ipsum, malesuada id nulla a, tempus auctor  libero.  Donec  nisl augue, lobortis ut arcu quis, cursus eleifend libero. In  tincidunt  egestas convallis. Mauris tempor neque vel neque aliquam, sit  amet  lacinia  mauris lacinia. Duis vitae nisi nulla. Cras vitae lorem  dictum,  rutrum  quam  id, faucibus magna. Morbi fringilla magna at augue  maximus  finibus.  Donec  mi dui, volutpat ut lectus  sit  amet,  feugiat  tincidunt  ex.  Sed  id  justo lobortis, eleifend lorem vitae, suscipit  elit.  Sed  et  tempor  justo.  In cursus tellus et mi volutpat accumsan. Maecenas quis porttitor lorem, sed sollicitudin  nisi. In aliquam, nisi a mollis porta, sem  massa  pretium  tellus,  eget  dapibus lectus neque in lorem. Vestibulum quis nunc et  lorem  finibus  sagittis  ac sit amet diam. Morbi pretium  tincidunt  lacus.  Duis  eget  augue  vel  nisi  sollicitudin efficitur eu sed enim.  Nullam  iaculis  ultrices  ipsum  sed  semper.  Nunc pellentesque nisl eget purus feugiat, a  varius  velit  tristique.  Praesent imperdiet magna suscipit, posuere  velit  semper,  condimentum  erat.  Donec rutrum scelerisque dapibus. Proin viverra libero vel diam consequat  ornare. Etiam blandit turpis felis, vel varius lorem sagittis sodales. Nulla  auctor tincidunt lacus  nec  tincidunt.  Pellentesque  vulputate  rutrum  augue  ut faucibus. Lorem ipsum dolor sit amet, consectetur adipiscing  elit.  Aliquam et scelerisque quam. Vestibulum congue vitae quam  eu  egestas.  Donec  cursus  rutrum  arcu,  in interdum dolor. Nunc rhoncus,  erat  sed  fringilla  placerat,  tellus  nunc auctor nibh, ut volutpat ante est ut eros.  Vestibulum  efficitur  ipsum  id vestibulum erat. Vivamus maximus,  nisl  nec  sagittis  fringilla,  ex  enim aliquet nisl, a  viverra  ipsum  sapien  at  nisl.  Nam  eu  ipsum  in  nisl facilisis vestibulum et at quam. Integer tempor ex hendrerit lorem  lacinia, a malesuada  odio  condimentum.  Proin  elit  sem,  aliquam  in  libero  eu, facilisis ultrices neque. Nunc ut diam at sapien  posuere  volutpat.  Mauris vestibulum, pretium justo a, egestas diam. Orci varius natoque penatibus et  magnis  dis  parturient  montes,  nascetur ridiculus mus. Quisque vitae massa nibh.  Donec  placerat  tempor  odio,  et consectetur libero rhoncus quis. Nam vehicula  vehicula  ipsum,  in  commodo massa lacinia  nec.  Quisque  elit  orci,  bibendum  ac  eros  et,  placerat vulputate nibh. Cras id elit nec orci  tincidunt  rhoncus.  Nullam  finibus, urna sit amet aliquam iaculis, odio purus porta nisi,  tempus  dictum  augue nisl a eros.  Curabitur  blandit  ipsum  in  imperdiet  consequat.  Praesent ullamcorper erat tortor, at aliquam nulla  fringilla  vitae.  Cras  sodales, odio ac dapibus consectetur, ipsum mi ultrices neque, vel  vestibulum  purus eros  aliquet  risus.  Vestibulum  ac  sagittis  dui.  Integer  quis  lectus egestas, sodales nunc eget,  dignissim  turpis.  Nulla  sodales  ullamcorper imperdiet. Etiam dolor augue, ultrices sed  felis  id,  ultricies  facilisis ligula. Sed mollis lorem eu  nisi  malesuada,  ac  vulputate  nisl  laoreet. Phasellus ac orci mauris. Sed eu justo leo. Phasellus odio mi,  efficitur  et  aliquet  eu,  tincidunt accumsan  elit.  Duis  quis  mauris  aliquam,  tincidunt  libero  sit  amet, interdum lorem. Proin dapibus risus mi, in auctor lorem venenatis  ut.  Orci sollicitudin bibendum nunc et commodo. Mauris  et  lectus  vel  elit  semper tempor. Aenean ligula turpis, maximus sit amet fringilla  sed,  lobortis  in dolor. Mauris vulputate tincidunt  lacus  convallis  hendrerit.  Integer  id congue diam. Sed in consequat nisi. Ut luctus nibh ullamcorper sagittis pulvinar. Maecenas elementum, massa  sed tincidunt fringilla, erat odio efficitur dui,  eu  blandit  tellus  sem  vel dolor. Pellentesque rhoncus mi efficitur, vestibulum  dolor  vitae,  sodales ipsum. Aliquam feugiat fermentum tortor ut varius.  Proin  non  nulla  nisi. Vivamus aliquet erat vitae tellus aliquet  rutrum.  Suspendisse  ullamcorper cursus leo varius maximus. Nam eget elit ut massa  sodales  ornare  eget  at sapien. Phasellus magna turpis, sollicitudin sit amet dignissim et,  viverra nec turpis. Sed ut nunc ac nibh elementum  sollicitudin.  Integer  ut  lacus tempor, elementum leo ac, bibendum lorem. Maecenas  blandit  eros  nec  diam mollis dapibus. Mauris in erat  sed  ante  convallis  consectetur  ac  vitae scelerisque. Aenean fermentum felis nec mauris  bibendum,  in  congue  felis Praesent semper molestie dolor eget bibendum. Pellentesque ut nisi sed  eros iaculis euismod. Mauris  lacinia  rhoncus  elit.  Nulla  id  metus  et  eros rhoncus iaculis. Pellentesque massa  augue,  mollis  eu  dui  eget,  egestas ornare velit. Morbi ultrices mi a  lacinia  commodo.  Pellentesque  faucibus purus ante, id vehicula arcu tincidunt ac. Orci varius natoque penatibus  et magnis dis parturient montes, nascetur ridiculus mus. Ut libero massa, auctor et tortor ut, lacinia semper massa. Etiam  a  tortor turpis. Donec bibendum ipsum in laoreet euismod.  Donec  nec  lectus  purus. Praesent a porttitor lectus.  Etiam  cursus,  ipsum  ut  maximus  tincidunt, risus velit mattis felis, sed sodales odio  leo  volutpat  sapien.  Etiam  a faucibus nunc. Ut magna elit, cursus a posuere ac, lobortis in orci. Nulla facilisi. Sed sollicitudin dictum metus, vel  dapibus  magna  accumsan ut. Nulla  in  laoreet  velit.  Lorem  ipsum  dolor  sit  amet,  consectetur adipiscing  elit.  Morbi  sit  amet  malesuada  leo,  non  tincidunt  augue. Curabitur venenatis bibendum  rutrum.  Vestibulum  porta  purus  vel  mattis dictum. Nam ac dictum justo. Mauris commodo, orci ut bibendum iaculis,  elit nisi euismod leo, nec bibendum lectus lorem in purus. Mauris nec dictum  mi, at dictum augue. Integer imperdiet sed nisi quis fermentum. Nullam libero justo, accumsan eget est  a,  rhoncus  ornare  ligula.  Mauris nisl a nisl  elementum  condimentum.  Nunc  non  eleifend  turpis,  pulvinar eleifend purus. Cras sodales augue et libero consectetur iaculis in a  elit. In sed lectus rhoncus, sagittis sem eget, dignissim orci. Phasellus  euismod augue nec sapien aliquam interdum. Sed iaculis in  lacus  eget  tincidunt.  Sed  molestie,  enim  nec  lobortis sagittis, tortor neque malesuada risus, nec molestie massa tortor  non  leo. Donec  gravida  vestibulum  mauris,  sed  faucibus  tortor  consectetur  id. Aliquam sit amet nulla ut  orci  porta  venenatis.  Vivamus  posuere,  metus pulvinar aliquam ullamcorper, dolor  dui  hendrerit  metus,  eget  fermentum urna diam at nisl. Suspendisse  quis  lobortis  urna.  Class  aptent  taciti sociosqu ad litora torquent per  conubia  nostra,  per  inceptos  himenaeos. Maecenas dignissim augue ac purus venenatis, vitae tincidunt  felis  dictum. Fusce efficitur neque at lorem laoreet scelerisque sit amet ut  enim.  Donec lobortis lacus eget erat ultricies, ac  luctus  diam  volutpat.  Aliquam  ut sollicitudin est,  et  ultrices  est.  Sed  gravida  imperdiet  velit  vitae dignissim. Cras feugiat varius ligula sed ultricies. Nam suscipit ut  ligula id rutrum. Mauris sed imperdiet  purus.  Nam  fringilla  eleifend  quam,  eu egestas ipsum tempus sit amet. venenatis. Phasellus  faucibus  a  elit  sed  cursus.  Duis  auctor  sodales viverra. Cras a facilisis risus. Fusce  sed  arcu  ultrices,  vehicula  arcu vitae, ultricies lorem. In posuere ante  sit  amet  sapien  commodo,  ornare auctor  nibh  porttitor.  In  sit  amet  lectus  facilisis malesuada. Donec massa velit, sagittis quis blandit  nec,  laoreet at odio. In venenatis  est  porttitor,  egestas  metus  vitae,  sollicitudin libero. Donec aliquet euismod neque, at  lacinia  odio  eleifend  in.  Donec ullamcorper. Quisque ac dolor justo. Phasellus sed neque et odio dictum lobortis. Quisque sit  amet  justo  quam. Integer commodo turpis sed massa rhoncus, eget rhoncus magna  dictum.  Proin sit amet vehicula mauris. Nunc tristique ut tellus id lobortis. Donec a  est sit amet sapien pulvinar condimentum ac a risus.  Morbi  posuere  dolor  sit amet nisl ultrices, et ultricies urna dapibus. Vestibulum ut placerat  nisl. Integer mollis non purus et dapibus. Proin sed dui  posuere,  bibendum  nunc vel, luctus dolor. Sed non leo vitae risus aliquam efficitur. Duis a  mauris quis libero efficitur condimentum ac in turpis. Nunc malesuada enim  libero, ut congue mauris gravida nec. Nunc bibendum urna vitae  metus  porttitor,  ut  laoreet  lorem  rutrum.  Ut consequat quis quam ut facilisis. Nam non magna cursus massa semper  mattis. Vivamus rhoncus, augue vitae efficitur posuere, mauris justo laoreet  neque, in iaculis tellus erat  ut  ipsum.  Suspendisse  odio  augue,  tincidunt  id lectus sed, hendrerit efficitur sem. Duis  vitae  nibh  pulvinar,  tincidunt orci a, mollis ex. Integer condimentum justo  enim,  eget  ultricies  libero bibendum sed. Duis magna mi, mattis sit [pic](amet diam quis, efficitur vehicula est.  Etiam  tincidunt  turpis  urna,  ut) dignissim risus lacinia in. Suspendisse a mollis magna,  eu  feugiat  massa. Ut vitae erat vel tellus condimentum placerat venenatis a erat. Suspendisse molestie nibh magna, eu maximus  ante  tincidunt  tincidunt.  Ut sit amet bibendum  turpis,  vitae  iaculis  nibh.  Pellentesque  consectetur facilisis sem, sed vehicula quam consectetur  dapibus.  Praesent  eget  urna aliquet, sollicitudin massa ut, tempor quam. In  vehicula  feugiat  dui  sed feugiat. Nulla laoreet placerat dui,  congue  placerat  massa  lobortis  in. Curabitur eu pellentesque enim, vel congue  dolor.  Lorem  ipsum  dolor  sit amet, consectetur adipiscing elit.  Interdum  et  malesuada  fames  ac  ante scelerisque elit, vel ultrices felis. Vivamus  tristique  ex  vitae  maximus commodo.\\n\\nDonec vestibulum  tellus  nec  pellentesque  imperdiet.  Praesent  fringilla molestie felis ut porta. Cras ac finibus ante. In ultricies  nec  sapien  ac cursus. Duis semper  scelerisque  mi,  non  posuere  urna  scelerisque  non. Pellentesque orci dui, scelerisque nec bibendum at, pellentesque vel  nulla. Curabitur nec tempus ante. Praesent tortor  arcu,  egestas  eu  tellus  nec, aliquam porta velit. Nam et urna id sem aliquam gravida.  Suspendisse  lacus ligula, facilisis ut sapien non, eleifend sodales risus. In a lacus eu  nisi accumsan vulputate sed fringilla  quam.  Vivamus  eros  erat,  suscipit  vel rhoncus eu, venenatis sed mauris. Ut mollis imperdiet  elit,  vel  vulputate massa ultricies non. Duis fermentum lectus ac lorem venenatis tempor. Integer in vestibulum magna, a ornare dolor.  Donec  consectetur  vestibulum sapien, imperdiet sodales tellus malesuada quis.  Curabitur  imperdiet  enim pharetra lectus molestie, ut imperdiet purus  pretium.  Aliquam  consectetur malesuada tortor, a lacinia arcu laoreet ut. Nulla vestibulum  tortor  nunc, maximus tempus dolor iaculis sit  amet.  Maecenas  cursus  quis  mauris  sed lobortis. Nam vehicula mauris  nec  ante  tincidunt,  vel  malesuada  tellus imperdiet. Praesent cursus tellus ligula, eu egestas nunc gravida  in.  Nunc consequat porta urna et posuere.  Pellentesque  lacinia  tincidunt  arcu  at auctor. Nunc vehicula sem vel commodo imperdiet. Proin  fringilla  ac  lorem suscipit sagittis. Nulla congue interdum purus, id tempus  libero  vulputate id. Vivamus feugiat dolor mauris, sed consectetur dui ornare lobortis. Quisque nibh  est,  suscipit  luctus  tortor  tincidunt,  iaculis  tincidunt tortor. Suspendisse mattis dui elementum suscipit laoreet.  Ut  sollicitudin elit nec eros tempus venenatis. Mauris ex libero, sollicitudin pretium  orci placerat, semper mattis  metus.  Proin  tincidunt  dapibus  diam,  sit  amet vehicula nisi porta id. Sed et turpis mauris. Etiam vitae  vulputate  risus. Donec consequat venenatis neque vitae euismod.  Vivamus  eleifend  hendrerit lectus a fermentum. Curabitur eget  lectus  ut  dui  eleifend  efficitur  ac vitae ligula.  Vestibulum  auctor,  tortor  eu  rhoncus  blandit,  est  odio ultrices elit, gravida finibus felis felis eget urna.  Vestibulum  in  metus quis eros efficitur tristique. Morbi condimentum ut erat eu ultrices. Praesent porta nulla  sit  amet  diam hendrerit, vel dapibus justo consectetur.  Duis  efficitur  convallis  elit, vel ornare diam tempus sed. Vestibulum ante ipsum primis  in  faucibus  orci luctus et ultrices  posuere  cubilia  Curae;  Donec  vestibulum  turpis  sed varius bibendum. Interdum  et  malesuada  fames  ac  ante  ipsum  primis  in faucibus. Vestibulum ante ipsum primis in faucibus orci luctus  et  ultrices posuere cubilia Curae; Cras ac sollicitudin erat. Mauris at  iaculis  dolor. Aliquam malesuada ligula et sapien  accumsan,  vel  aliquet  eros  placerat. Phasellus pellentesque volutpat felis  sit  amet  mattis.  Fusce  vestibulum tellus sit amet velit tincidunt congue et  non  nisi.  Aenean  tempor  augue rutrum nisi euismod, sed porta orci mattis. Curabitur arcu erat, euismod  in ipsum quis, tincidunt ornare neque. Maecenas vehicula orci  eget  eros  varius  pulvinar.  Orci  varius  natoque penatibus et magnis dis parturient montes,  nascetur  ridiculus  mus.  Donec nec fermentum erat diam sed lacus. Nunc eros  tellus,  posuere  sollicitudin nunc nec, vestibulum dapibus  lectus.  In  hac  habitasse  platea  dictumst. Curabitur vitae mollis ipsum, non iaculis urna. Sed  convallis  nisi  magna, eu tincidunt est hendrerit  ac.  Integer  fermentum  dui  eu  nisl  molestie ullamcorper. Nunc commodo dignissim mauris, sed pretium urna  tristique  at. Nullam eu metus massa. Phasellus dictum purus  diam,  vitae  rhoncus  tellus aliquam vel. Nullam quis turpis quam. Aliquam at sagittis velit. Quisque finibus placerat sagittis.  Donec  fermentum  leo  eu  dolor  varius pellentesque. Nunc posuere ex ex, at viverra tellus molestie ut. Fusce  urna ex, vehicula eget blandit  et,  molestie  ut  lorem.  Vestibulum  sed  magna velit. Praesent quis porta risus, sit amet molestie tortor. Aliquam  iaculis est id urna bibendum, sed  tempor  est  mollis.  Donec  condimentum  aliquam mauris, a molestie neque semper quis. Sed eu faucibus mi. Mauris luctus quis nisi ut egestas. Donec tempus  turpis et dui dictum, a tincidunt nisl sagittis.  Aliquam  tristique  vehicula  dui eget dapibus. Sed arcu  mauris,  feugiat  sed  ex  ac,  consectetur  finibus justo. Interdum et malesuada fames ac ante ipsum primis in  faucibus.  Donec malesuada, ligula vitae convallis fermentum, tellus mauris dictum  justo,  a blandit sapien arcu sit amet mi. Morbi porta metus elit, vel  egestas  ipsum tristique ut. Fusce euismod ante odio, ut interdum tellus  imperdiet  vitae. Lorem  ipsum  dolor  sit  amet,  consectetur  adipiscing  elit.  Suspendisse commodo, tellus ac  varius  egestas,  magna  nisi  condimentum  nunc,  vitae tincidunt nisl lorem eget eros. Duis  tristique  ultrices  magna,  a  varius ligula ornare pharetra. Fusce luctus nisl  est,  ac  semper  nunc  dignissim Praesent sed lorem lorem. Donec egestas eros  nec  rhoncus  efficitur.  Duis nec mi arcu. Suspendisse in elit  elit.  Suspendisse  potenti.  Pellentesque habitant morbi tristique senectus et netus  et  malesuada  fames  ac  turpis egestas. Quisque mattis metus eu nisi commodo,  in  semper  orci  malesuada. Nullam ullamcorper dapibus dolor in egestas. Aenean faucibus dui sit amet interdum  laoreet.  Sed  ac  pretium  arcu,  at dictum nisl. Donec ullamcorper ac diam  et  finibus.  Suspendisse  hendrerit lorem sem, ut  mattis  ipsum  malesuada  vel.  Morbi  ullamcorper  elementum viverra. Fusce eget placerat urna, et ornare tortor.  Suspendisse  facilisis lorem at nunc semper  rhoncus.  Quisque  volutpat  non  est  vitae  dapibus. Suspendisse imperdiet facilisis nibh nec sodales. Cras  sagittis  porttitor  odio,  in  pretium  mauris  finibus  ut.  Aliquam venenatis magna massa, id accumsan mi  blandit  quis.  In  vehicula  euismod mollis. Donec volutpat, tortor  in  auctor  cursus,  urna  nibh  scelerisque magna, nec consectetur odio magna  nec  nisi.  Suspendisse  commodo  euismod diam eget rutrum. Suspendisse vel laoreet ex. In sed sodales  nisl.  Sed  et sapien est, vel mollis magna egestas at. Aenean ullamcorper  nisl  at  metus feugiat, non egestas urna bibendum. Quisque pharetra ac nunc at tincidunt. Nulla  vel  ipsum  nec  elit  blandit hendrerit. Quisque magna eros,  imperdiet  non  elementum  id,  blandit  nec elementum non augue non, accumsan facilisis augue. Phasellus pharetra  lorem et eros vehicula varius. Vestibulum elementum nunc  eget  sagittis  laoreet. Suspendisse mauris massa,  aliquet  sed  eros  ac,  tempus  elementum  nisl. Integer vel congue libero, at sagittis dui. Aliquam viverra nisl  dolor,  ac volutpat  neque  maximus  vel.  Etiam  faucibus  fermentum  nulla  malesuada rutrum. Pellentesque imperdiet tincidunt augue. Phasellus sagittis quis  justo  gravida  placerat.  Praesent  congue  mattis nulla, vitae vehicula tortor  efficitur  in.  Maecenas  cursus  odio  risus, dictum molestie enim pulvinar ut. Praesent  nibh  erat,  accumsan  a  tellus vel, fringilla ultrices sem. Donec  vel  enim  a  orci  mollis  scelerisque. Mauris at imperdiet metus. Nulla commodo fermentum ex  a  varius.  Morbi  ac imperdiet felis. Donec bibendum ipsum metus,  quis  rhoncus  orci  convallis at. Duis pharetra nisl id blandit malesuada. Donec sodales a eros  fringilla Etiam eleifend massa non sapien viverra fringilla.  Vivamus  tempor  sodales ante eu finibus. Phasellus sit amet  elementum  diam.  Phasellus  eget  diam diam. Nunc rutrum lacus ut elementum congue. Donec justo  felis,  tempus  ac sodales vitae, faucibus sit  amet  nibh.  Nam  consequat  sit  amet  nisi  a hendrerit. Ut auctor non lectus eu  semper.  Curabitur  sollicitudin  libero vitae ante pulvinar, vel laoreet nunc finibus. Praesent vel  convallis  est. Interdum et malesuada fames ac ante ipsum primis in faucibus. Morbi efficitur odio ac tortor  consequat,  eget  vehicula  odio  vulputate. Nunc ut eros ante. Donec ornare mi sit  amet  enim  porttitor,  a  tincidunt mauris laoreet. Aenean scelerisque eu eros  nec  euismod.  Fusce  ut  turpis ullamcorper, leo ut tincidunt  posuere,  lacus  augue  placerat  nisl,  eget lacinia eros ante sed risus. Vestibulum neque ante, feugiat  vel  vestibulum fringilla. Donec posuere, elit sit amet  sodales  sollicitudin,  lacus  eros mattis libero, non hendrerit lacus lacus vulputate  purus.  Vestibulum  eget diam quis nisl interdum placerat ut in lacus. Vestibulum rutrum dui ipsum, in elementum ipsum semper id. Etiam lacinia tellus sit amet  nisi finibus, vel ornare elit vestibulum. Sed accumsan volutpat pellentesque. Donec vestibulum, felis quis  vestibulum commodo, elit ligula  blandit  augue,  et  iaculis  nulla  velit  nec  nunc. Phasellus magna  dui,  interdum  vitae  nulla  eget,  ornare  pharetra  leo. Quisque ultrices posuere lorem id ultrices. Phasellus  eget  bibendum  eros. Maecenas porttitor dictum justo, et euismod metus scelerisque eget.  Vivamus et mi tincidunt, pretium augue sit  amet,  porta  libero.  Morbi  luctus  eu purus quis consectetur. Aliquam elementum sapien ipsum, [pic](at imperdiet orci sagittis congue. Sed  ullamcorper  leo  tincidunt,  mollis) orci non, maximus odio. Nunc id justo  iaculis,  ultrices  velit  a,  cursus enim. Proin a metus vitae  lorem  fringilla  ullamcorper.  Curabitur  mattis suscipit dui, vitae posuere dui posuere aliquam.  Aenean  sit  amet  posuere turpis. Morbi maximus non odio at posuere. Sed ultrices faucibus placerat. Donec sagittis  lacus  at  sagittis  mollis. Cras ut suscipit turpis. Sed vehicula, eros eget  rutrum  vulputate,  lectus est ullamcorper mi, ac dignissim risus odio  at  sem.  Suspendisse  potenti. Morbi quis sagittis felis, ut sodales justo. Maecenas feugiat varius  risus, a pulvinar\\n\\nmi. Aenean accumsan eros nulla, ac  tincidunt  erat  viverra  id. Integer laoreet hendrerit nulla, id varius magna tristique  non.  Aenean  id quam nibh. Aliquam eu hendrerit urna. Curabitur at  interdum  dui.  Praesent id sem facilisis, facilisis quam vel, consectetur sem. Orci varius natoque penatibus et  magnis  dis  parturient  montes,  nascetur ridiculus mus. Aliquam convallis  odio  ac  aliquet  dignissim.  Suspendisse potenti. Proin aliquet libero dui, non efficitur lectus  egestas  ut.  Morbi ullamcorper dui non sodales. Mauris vitae orci feugiat, accumsan  purus  at, viverra leo. Fusce suscipit  diam  sit  amet  facilisis  consectetur.  Morbi luctus rhoncus dignissim. Maecenas semper magna id nunc auctor  blandit.  In venenatis venenatis.'}"
      ]
     },
     "execution_count": 97,
     "metadata": {},
     "output_type": "execute_result"
    }
   ],
   "source": [
    "extract(filepath='./test/document/sample-doc-file.doc')"
   ]
  },
  {
   "cell_type": "markdown",
   "metadata": {},
   "source": [
    "#### DOCX File"
   ]
  },
  {
   "cell_type": "code",
   "execution_count": 98,
   "metadata": {},
   "outputs": [
    {
     "data": {
      "text/plain": [
       "{'format': '.docx',\n",
       " 'mime': 'application/vnd.openxmlformats-officedocument.wordprocessingml.document',\n",
       " 'color': None,\n",
       " 'angle': 0,\n",
       " 'size': 3909414,\n",
       " 'text': 'Curabitur bibendum ante urna, sed blandit libero egestas id. Pellentesque rhoncus elit in lacus ultrices fringilla. Nam ac metus eu turpis mattis rutrum. Mauris mattis sem ex, facilisis molestie sapien luctus non. Vestibulum tincidunt urna at odio suscipit, vel congue felis cursus. Etiam tellus magna, egestas ac suscipit in, laoreet quis felis. Proin non orci id dui tincidunt egestas. Vestibulum eleifend, ligula a scelerisque vehicula, risus justo ultricies ligula, et interdum lorem ex eget ex. Duis dignissim lacus vitae velit laoreet, vitae placerat velit aliquet. Etiam eget mollis nulla, ac vehicula mi. Etiam non sollicitudin velit, imperdiet commodo mi. Fusce quis tellus tellus. Donec dictum euismod risus non tempus. Duis quis pellentesque nunc. Praesent elementum condimentum mollis. Phasellus dapibus quam a hendrerit placerat. Sed ultrices blandit nulla sed sodales. Nunc quis volutpat eros. Etiam bibendum eu tellus consequat blandit. Curabitur lacinia cursus diam sed pharetra. Proin molestie tristique mauris ut aliquam. Donec purus odio, molestie id suscipit sit amet, porttitor in erat. Vestibulum ut tellus vel mi lobortis porta nec vel tellus. Quisque pretium blandit dignissim. Proin eu metus convallis sapien efficitur mollis. Nunc luctus ex in nunc ornare, nec blandit orci faucibus. Aenean bibendum mi vel neque euismod hendrerit. Vestibulum ac pharetra magna. Ut rutrum, orci at blandit faucibus, justo mauris iaculis mauris, ut tempor lectus risus at ligula. Duis non tincidunt purus. Nam quis sapien risus. Donec mattis convallis tempor. Fusce aliquam aliquet eros, nec rutrum lectus pretium at. Praesent blandit justo a mi dignissim placerat. Ut ullamcorper elit eget diam maximus iaculis. In bibendum in massa eget facilisis. In iaculis lectus  nec neque vehicula, ac molestie ante ornare. Sed sit amet sem mollis, egestas justo ac, rhoncus nunc. In in aliquam ante, non imperdiet ante. Mauris in sapien ut quam hendrerit mollis. Proin feugiat dignissim nisi, sed tincidunt ante aliquam et. Integer finibus et augue a tempus. Nullam facilisis quis nisl sit amet iaculis. Integer hendrerit metus in faucibus aliquet. Donec fermentum, lacus lobortis pulvinar vestibulum, felis ipsum auctor mi, ac pulvinar lacus magna semper ligula. Proin mollis eros turpis, vel iaculis velit lobortis vitae. Nam hendrerit arcu quam, ac feugiat massa semper eu. Nullam quis feugiat nisl. Praesent fringilla luctus purus non pulvinar. Donec accumsan purus libero, eget maximus purus consequat faucibus. Maecenas porta consectetur magna non commodo. Class aptent taciti sociosqu ad litora torquent per conubia nostra, per inceptos himenaeos. Ut facilisis nibh quis pellentesque dapibus. Aliquam vulputate porta ex, eu convallis neque luctus a. Vivamus egestas dignissim neque, ac vestibulum tortor finibus eu. In condimentum lorem ac nulla bibendum, sit amet dapibus nisl maximus. Donec eu neque nec enim eleifend dictum vitae eu orci. Maecenas id consequat augue, congue molestie nibh. Proin in mi et nunc bibendum convallis. Nullam eu sagittis elit. Quisque interdum turpis at nulla mollis, quis ultricies lacus rutrum. Sed molestie accumsan metus, ut rutrum mi ullamcorper sed. Vivamus eu imperdiet mauris, in pulvinar orci. Cras nec feugiat velit. Curabitur varius mattis mi, ac rutrum ligula convallis lacinia. Phasellus iaculis diam quam, et egestas libero mollis sed. Duis vel erat dolor. Phasellus ut sem non elit tempor convallis. Nunc non fermentum leo, eget rhoncus eros. Mauris varius condimentum metus, aliquet vulputate quam vestibulum sed. Etiam vel diam nec velit viverra laoreet id eu purus. Nunc vulputate magna ac nisl tempor bibendum. Morbi vitae tempor velit. Nam auctor nisi est, id pharetra leo accumsan quis. Suspendisse id urna libero. Curabitur congue ante ut lorem placerat hendrerit. Phasellus faucibus felis a nulla volutpat, ut tempor erat vulputate. Mauris pellentesque faucibus mattis. Integer cursus egestas ligula ac sodales. Nam blandit massa sit amet ex venenatis aliquam. Integer aliquam, lorem quis bibendum rhoncus, leo tortor tempus lorem, a lobortis eros ligula ac massa. Nam non magna vitae quam mattis ultrices a quis elit. Etiam egestas dictum risus. Curabitur nec finibus erat. Sed vel risus nec velit congue facilisis. Vivamus finibus sapien eu ultrices aliquam. Vestibulum varius nulla ligula, in interdum enim commodo a. Curabitur vestibulum sit amet quam id eleifend. Nulla condimentum nulla vel erat eleifend, et ornare lectus imperdiet. Nam rutrum fringilla risus, nec sollicitudin risus rhoncus ut. Nunc suscipit eros non massa luctus congue. Vivamus vulputate varius sagittis. In in elit at lorem volutpat semper. Aliquam mollis, justo ut pharetra condimentum, nisl velit mollis eros, sed congue nulla nisi sit amet magna. Donec cursus ornare lectus faucibus iaculis. Nulla non ultrices quam. In sodales lorem ac justo dapibus ullamcorper. Suspendisse potenti. Sed vitae urna eget eros sagittis auctor eget ac lorem. Sed id velit justo. Mauris vel pharetra lacus. Duis eleifend nisl nisl, sit amet mattis mi ultricies at. Vestibulum a porta neque. Donec eu feugiat orci. Nunc lacinia aliquet metus rhoncus convallis. Aenean efficitur mi eu nunc placerat blandit. Sed ac nisi sapien. Nullam molestie risus eu nibh posuere aliquam. Nunc accumsan, leo eget vestibulum gravida, urna ipsum semper ligula, non porttitor urna leo quis tortor. Fusce lobortis in metus mollis dignissim. Vestibulum a sollicitudin turpis. Vivamus sed lectus et eros ullamcorper egestas. Duis tincidunt sem sit amet suscipit ultrices. Pellentesque suscipit, ante nec pretium commodo, lorem dui pharetra libero, vel dignissim odio quam a ex. Proin commodo nibh id ultricies convallis. Morbi et vehicula felis. Fusce vel malesuada purus, eget fringilla enim. Phasellus vitae nisi et tortor dignissim elementum. Aenean et odio mi. Maecenas eu leo justo. Suspendisse sagittis turpis mauris, sit amet euismod ligula porta sed. Nulla in venenatis felis. Fusce in semper lacus. Nullam convallis sapien ac scelerisque mollis. Donec semper massa eu lacinia dapibus. Nulla facilisi. Duis et eros vitae tellus congue aliquet. Aliquam ac augue molestie, dapibus enim ut, tincidunt velit. Etiam sollicitudin purus sed purus ultricies, ultrices eleifend purus vulputate. In quis ex sit amet magna cursus posuere id sit amet purus. Integer dui ipsum, malesuada id nulla a, tempus auctor libero. Donec nisl augue, lobortis ut arcu quis, cursus eleifend libero. In tincidunt egestas ipsum a sollicitudin. Phasellus sit amet massa vitae purus mattis convallis. Mauris tempor neque vel neque aliquam, sit amet lacinia mauris lacinia. Duis vitae nisi nulla. Cras vitae lorem dictum, rutrum quam id, faucibus magna. Morbi fringilla magna at augue maximus finibus. Donec mi dui, volutpat ut lectus sit amet, feugiat tincidunt ex. Sed id justo lobortis, eleifend lorem vitae, suscipit elit. Sed et tempor justo. In cursus tellus et  mi volutpat accumsan. Maecenas quis porttitor lorem, sed sollicitudin nisi. In aliquam, nisi a mollis porta, sem massa pretium tellus, eget dapibus lectus neque in lorem. Vestibulum quis nunc et lorem finibus sagittis ac sit amet diam. Morbi pretium tincidunt lacus. Duis eget augue vel nisi sollicitudin efficitur eu sed enim. Nullam iaculis ultrices ipsum sed semper. Nunc pellentesque nisl eget purus feugiat, a varius velit tristique. Praesent imperdiet magna suscipit, posuere velit semper, condimentum erat. Donec rutrum scelerisque dapibus. Proin viverra libero vel diam consequat ornare. Etiam blandit turpis felis, vel varius lorem sagittis sodales. Nulla auctor tincidunt lacus nec tincidunt. Pellentesque vulputate rutrum augue ut faucibus. Lorem ipsum dolor sit amet, consectetur adipiscing elit. Aliquam et scelerisque quam. Vestibulum congue vitae quam eu egestas. Donec cursus rutrum arcu, in pellentesque dui sollicitudin eget. Vivamus vitae eleifend ante, ac interdum dolor. Nunc rhoncus, erat sed fringilla placerat, tellus nunc auctor nibh, ut volutpat ante est ut eros. Vestibulum efficitur ipsum id maximus efficitur. Aliquam ac odio bibendum, tincidunt massa vel, vestibulum erat. Vivamus maximus, nisl nec sagittis fringilla, ex enim aliquet nisl, a viverra ipsum sapien at nisl. Nam eu ipsum in nisl facilisis vestibulum et at quam. Integer tempor ex hendrerit lorem lacinia, a malesuada odio condimentum. Proin elit sem, aliquam in libero eu, facilisis ultrices neque. Nunc ut diam at sapien posuere volutpat. Mauris dapibus semper lorem in imperdiet. Nulla facilisi. Donec eu nunc vestibulum, pretium justo a, egestas diam. Orci varius natoque penatibus et magnis dis parturient montes, nascetur ridiculus mus. Quisque vitae massa nibh. Donec placerat tempor odio, et consectetur libero rhoncus quis. Nam vehicula vehicula ipsum, in commodo massa lacinia nec. Quisque elit orci, bibendum ac eros et, placerat vulputate nibh. Cras id elit nec orci tincidunt rhoncus. Nullam finibus, urna sit amet aliquam iaculis, odio purus porta nisi, tempus dictum augue nisl a eros. Curabitur blandit ipsum in imperdiet consequat. Praesent ullamcorper erat tortor, at aliquam nulla fringilla vitae. Cras sodales, odio ac dapibus consectetur, ipsum mi ultrices neque, vel vestibulum purus eros aliquet risus. Vestibulum ac sagittis dui. Integer quis lectus egestas, sodales nunc eget, dignissim turpis. Nulla sodales ullamcorper imperdiet. Etiam dolor augue, ultrices sed felis id, ultricies facilisis ligula. Sed mollis lorem eu nisi malesuada, ac vulputate nisl laoreet. Phasellus ac orci mauris. Sed eu justo leo. Phasellus odio mi, efficitur et aliquet eu, tincidunt accumsan elit. Duis quis mauris aliquam, tincidunt libero sit amet, interdum lorem. Proin dapibus risus mi, in auctor lorem venenatis ut. Orci varius natoque penatibus et magnis dis parturient montes, nascetur ridiculus mus. Aenean ut tempus ex. Sed vitae posuere tortor. Sed sollicitudin bibendum nunc et commodo. Mauris et lectus vel elit semper tempor. Aenean ligula turpis, maximus sit amet fringilla sed, lobortis in dolor. Mauris vulputate tincidunt lacus convallis hendrerit. Integer id congue diam. Sed in consequat nisi. Ut luctus nibh ullamcorper sagittis pulvinar. Maecenas elementum, massa sed tincidunt fringilla, erat odio efficitur dui, eu blandit tellus sem vel dolor. Pellentesque rhoncus mi efficitur, vestibulum dolor vitae, sodales ipsum. Aliquam feugiat fermentum tortor ut varius. Proin non nulla nisi. Vivamus aliquet erat vitae tellus aliquet rutrum. Suspendisse ullamcorper cursus leo varius maximus. Nam eget elit ut massa sodales ornare eget at sapien. Phasellus magna turpis, sollicitudin sit amet dignissim et, viverra nec turpis. Sed ut nunc ac nibh elementum sollicitudin. Integer ut lacus tempor, elementum leo ac, bibendum lorem. Maecenas blandit eros nec diam mollis dapibus. Mauris in erat sed ante convallis consectetur ac vitae purus. Phasellus finibus tempor elementum. In gravida et urna non scelerisque. Aenean fermentum felis nec mauris bibendum, in congue felis mattis. Praesent semper molestie dolor eget bibendum. Pellentesque ut nisi sed eros iaculis euismod. Mauris lacinia rhoncus elit. Nulla id metus et eros rhoncus iaculis. Pellentesque massa augue, mollis eu dui eget, egestas ornare velit. Morbi ultrices mi a lacinia commodo. Pellentesque faucibus purus ante, id vehicula arcu tincidunt ac. Orci varius natoque penatibus et magnis dis parturient montes, nascetur ridiculus mus. Ut libero massa, auctor et tortor ut, lacinia semper massa. Etiam a tortor turpis. Donec bibendum ipsum in laoreet euismod. Donec nec lectus purus. Praesent a porttitor lectus. Etiam cursus, ipsum ut maximus tincidunt, risus velit mattis felis, sed sodales odio leo volutpat sapien. Etiam a faucibus nunc. Ut magna elit, cursus a posuere ac, lobortis in orci. Nulla facilisi. Sed sollicitudin dictum metus, vel dapibus magna accumsan ut. Nulla in laoreet velit. Lorem ipsum dolor sit amet, consectetur adipiscing elit. Morbi sit amet malesuada leo, non tincidunt augue. Curabitur venenatis bibendum rutrum. Vestibulum porta purus vel mattis dictum. Nam ac dictum justo. Mauris commodo, orci ut bibendum iaculis, elit nisi euismod leo, nec bibendum lectus lorem in purus. Mauris nec dictum mi, at dictum augue. Integer imperdiet sed nisi quis fermentum. Nullam libero justo, accumsan eget est a, rhoncus ornare ligula. Mauris bibendum tempus consequat. Curabitur semper quis leo nec viverra. Pellentesque mollis placerat tincidunt. Etiam id  nisl a nisl elementum condimentum. Nunc non eleifend turpis, pulvinar eleifend purus. Cras sodales augue et libero consectetur iaculis in a elit. In sed lectus rhoncus, sagittis sem eget, dignissim orci. Phasellus euismod augue nec sapien aliquam interdum. Sed iaculis in lacus eget tincidunt. Sed molestie, enim nec lobortis sagittis, tortor neque malesuada risus, nec molestie massa tortor non leo. Donec gravida vestibulum mauris, sed faucibus tortor consectetur id. Aliquam sit amet nulla ut orci porta venenatis. Vivamus posuere, metus pulvinar aliquam ullamcorper, dolor dui hendrerit metus, eget fermentum urna diam at nisl. Suspendisse quis lobortis urna. Class aptent taciti sociosqu ad litora torquent per conubia nostra, per inceptos himenaeos. Maecenas dignissim augue ac purus venenatis, vitae tincidunt felis dictum. Fusce efficitur neque at lorem laoreet scelerisque sit amet ut enim. Donec lobortis lacus eget erat ultricies, ac luctus diam volutpat. Aliquam ut sollicitudin est, et ultrices est. Sed gravida imperdiet velit vitae dignissim. Cras feugiat varius ligula sed ultricies. Nam suscipit ut ligula id rutrum. Mauris sed imperdiet purus. Nam fringilla eleifend quam, eu egestas ipsum tempus sit amet. Donec non rutrum elit. Curabitur fringilla nisi eu augue efficitur venenatis. Phasellus faucibus a elit sed cursus. Duis auctor sodales viverra. Cras a facilisis risus. Fusce sed arcu ultrices, vehicula arcu vitae, ultricies lorem. In posuere ante sit amet sapien commodo, ornare auctor nibh porttitor. In sit amet lectus mi. Vestibulum vulputate facilisis malesuada. Donec massa velit, sagittis quis blandit nec, laoreet at odio. In venenatis est porttitor, egestas metus vitae, sollicitudin libero. Donec aliquet euismod neque, at lacinia odio eleifend in. Donec tincidunt a mi non tincidunt. Etiam quis lectus id neque mollis ullamcorper. Quisque ac dolor justo. Phasellus sed neque et odio dictum lobortis. Quisque sit amet justo quam. Integer commodo turpis sed massa rhoncus, eget rhoncus magna dictum. Proin sit amet vehicula mauris. Nunc tristique ut tellus id lobortis. Donec a est sit amet sapien pulvinar condimentum ac a risus. Morbi posuere dolor sit amet nisl ultrices, et ultricies urna dapibus. Vestibulum ut placerat nisl. Integer mollis non purus et dapibus. Proin sed dui posuere, bibendum nunc vel, luctus dolor. Sed non leo vitae risus aliquam efficitur. Duis a mauris quis libero efficitur condimentum ac in turpis. Nunc malesuada enim libero, ut congue mauris gravida nec. Nunc bibendum urna vitae metus porttitor, ut laoreet lorem rutrum. Ut consequat quis quam ut facilisis. Nam non magna cursus massa semper mattis. Vivamus rhoncus, augue vitae efficitur posuere, mauris justo laoreet neque, in iaculis tellus erat ut ipsum. Suspendisse odio augue, tincidunt id lectus sed, hendrerit efficitur sem. Duis vitae nibh pulvinar, tincidunt orci a, mollis ex. Integer condimentum justo enim, eget ultricies libero bibendum sed. Duis magna mi, mattis sit  amet diam quis, efficitur vehicula est. Etiam tincidunt turpis urna, ut dignissim risus lacinia in. Suspendisse a mollis magna, eu feugiat massa. Ut vitae erat vel tellus condimentum placerat venenatis a erat. Suspendisse molestie nibh magna, eu maximus ante tincidunt tincidunt. Ut sit amet bibendum turpis, vitae iaculis nibh. Pellentesque consectetur facilisis sem, sed vehicula quam consectetur dapibus. Praesent eget urna aliquet, sollicitudin massa ut, tempor quam. In vehicula feugiat dui sed feugiat. Nulla laoreet placerat dui, congue placerat massa lobortis in. Curabitur eu pellentesque enim, vel congue dolor. Lorem ipsum dolor sit amet, consectetur adipiscing elit. Interdum et malesuada fames ac ante ipsum primis in faucibus. Sed placerat vulputate risus a convallis. Suspendisse laoreet volutpat libero id vulputate. Quisque sit amet scelerisque elit, vel ultrices felis. Vivamus tristique ex vitae maximus commodo. Donec vestibulum tellus nec pellentesque imperdiet. Praesent fringilla molestie felis ut porta. Cras ac finibus ante. In ultricies nec sapien ac cursus. Duis semper scelerisque mi, non posuere urna scelerisque non. Pellentesque orci dui, scelerisque nec bibendum at, pellentesque vel nulla. Curabitur nec tempus ante. Praesent tortor arcu, egestas eu tellus nec, aliquam porta velit. Nam et urna id sem aliquam gravida. Suspendisse lacus ligula, facilisis ut sapien non, eleifend sodales risus. In a lacus eu nisi accumsan vulputate sed fringilla quam. Vivamus eros erat, suscipit vel rhoncus eu, venenatis sed mauris. Ut mollis imperdiet elit, vel vulputate massa ultricies non. Duis fermentum lectus ac lorem venenatis tempor. Integer in vestibulum magna, a ornare dolor. Donec consectetur vestibulum sapien, imperdiet sodales tellus malesuada quis. Curabitur imperdiet enim pharetra lectus molestie, ut imperdiet purus pretium. Aliquam consectetur malesuada tortor, a lacinia arcu laoreet ut. Nulla vestibulum tortor nunc, maximus tempus dolor iaculis sit amet. Maecenas cursus quis mauris sed lobortis. Nam vehicula mauris nec ante tincidunt, vel malesuada tellus imperdiet. Praesent cursus tellus ligula, eu egestas nunc gravida in. Nunc consequat porta urna et posuere. Pellentesque lacinia tincidunt arcu at auctor. Nunc vehicula sem vel commodo imperdiet. Proin fringilla ac lorem suscipit sagittis. Nulla congue interdum purus, id tempus libero vulputate id. Vivamus feugiat dolor mauris, sed consectetur dui ornare lobortis. Quisque nibh est, suscipit luctus tortor tincidunt, iaculis tincidunt tortor. Suspendisse mattis dui elementum suscipit laoreet. Ut sollicitudin elit nec eros tempus venenatis. Mauris ex libero, sollicitudin pretium orci placerat, semper mattis metus. Proin tincidunt dapibus diam, sit amet vehicula nisi porta id. Sed et turpis mauris. Etiam vitae vulputate risus. Donec consequat venenatis neque vitae euismod. Vivamus eleifend hendrerit lectus a fermentum. Curabitur eget lectus ut dui eleifend efficitur ac vitae ligula. Vestibulum auctor, tortor eu rhoncus blandit, est odio ultrices elit, gravida finibus felis felis eget urna. Vestibulum in metus quis eros efficitur tristique. Morbi condimentum ut erat eu ultrices. Praesent porta nulla sit amet diam hendrerit, vel dapibus justo consectetur. Duis efficitur convallis elit, vel ornare diam tempus sed. Vestibulum ante ipsum primis in faucibus orci luctus et ultrices posuere cubilia Curae; Donec vestibulum turpis sed varius bibendum. Interdum et malesuada fames ac ante ipsum primis in faucibus. Vestibulum ante ipsum primis in faucibus orci luctus et ultrices posuere cubilia Curae; Cras ac sollicitudin erat. Mauris at iaculis dolor. Aliquam malesuada ligula et sapien accumsan, vel aliquet eros placerat. Phasellus pellentesque volutpat felis sit amet mattis. Fusce vestibulum tellus sit amet velit tincidunt congue et non nisi. Aenean tempor augue rutrum nisi euismod, sed porta orci mattis. Curabitur arcu erat, euismod in ipsum quis, tincidunt ornare neque. Maecenas vehicula orci eget eros varius pulvinar. Orci varius natoque penatibus et magnis dis parturient montes, nascetur ridiculus mus. Donec vel pulvinar dui. Fusce commodo ipsum maximus justo ullamcorper semper. Integer erat ante, pulvinar in molestie ut, porttitor eget metus. Pellentesque fringilla, eros a mollis dapibus, odio lectus bibendum lacus, nec fermentum erat diam sed lacus. Nunc eros tellus, posuere sollicitudin nunc nec, vestibulum dapibus lectus. In hac habitasse platea dictumst. Curabitur vitae mollis ipsum, non iaculis urna. Sed convallis nisi magna, eu tincidunt est hendrerit ac. Integer fermentum dui eu nisl molestie ullamcorper. Nunc commodo dignissim mauris, sed pretium urna tristique at. Nullam eu metus massa. Phasellus dictum purus diam, vitae rhoncus tellus aliquam vel. Nullam quis turpis quam. Aliquam at sagittis velit. Quisque finibus placerat sagittis. Donec fermentum leo eu dolor varius pellentesque. Nunc posuere ex ex, at viverra tellus molestie ut. Fusce urna ex, vehicula eget blandit et, molestie ut lorem. Vestibulum sed magna velit. Praesent quis porta risus, sit amet molestie tortor. Aliquam iaculis est id urna bibendum, sed tempor est mollis. Donec condimentum aliquam mauris, a molestie neque semper quis. Sed eu faucibus mi. Mauris luctus quis nisi ut egestas. Donec tempus turpis et dui dictum, a tincidunt nisl sagittis. Aliquam tristique vehicula dui eget dapibus. Sed arcu mauris, feugiat sed ex ac, consectetur finibus justo. Interdum et malesuada fames ac ante ipsum primis in faucibus. Donec malesuada, ligula vitae convallis fermentum, tellus mauris dictum justo, a blandit sapien arcu sit amet mi. Morbi porta metus elit, vel egestas ipsum tristique ut. Fusce euismod ante odio, ut interdum tellus imperdiet vitae. Lorem ipsum dolor sit amet, consectetur adipiscing elit. Suspendisse commodo, tellus ac varius egestas, magna nisi condimentum nunc, vitae tincidunt nisl lorem eget eros. Duis tristique ultrices magna, a varius ligula ornare pharetra. Fusce luctus nisl est, ac semper nunc dignissim tempor. Praesent sed lorem lorem. Donec egestas eros nec rhoncus efficitur. Duis nec mi arcu. Suspendisse in elit elit. Suspendisse potenti. Pellentesque habitant morbi tristique senectus et netus et malesuada fames ac turpis egestas. Quisque mattis metus eu nisi commodo, in semper orci malesuada. Nullam ullamcorper dapibus dolor in egestas. Aenean faucibus dui sit amet interdum laoreet. Sed ac pretium arcu, at dictum nisl. Donec ullamcorper ac diam et finibus. Suspendisse hendrerit lorem sem, ut mattis ipsum malesuada vel. Morbi ullamcorper elementum viverra. Fusce eget placerat urna, et ornare tortor. Suspendisse facilisis lorem at nunc semper rhoncus. Quisque volutpat non est vitae dapibus. Suspendisse imperdiet facilisis nibh nec sodales. Cras sagittis porttitor odio, in pretium mauris finibus ut. Aliquam venenatis magna massa, id accumsan mi blandit quis. In vehicula euismod mollis. Donec volutpat, tortor in auctor cursus, urna nibh scelerisque magna, nec consectetur odio magna nec nisi. Suspendisse commodo euismod diam eget rutrum. Suspendisse vel laoreet ex. In sed sodales nisl. Sed et hendrerit magna. Suspendisse pulvinar id elit sit amet scelerisque. Suspendisse dictum nisl in sapien iaculis ultrices in a risus. In tristique sapien est, vel mollis magna egestas at. Aenean ullamcorper nisl at metus feugiat, non egestas urna bibendum. Quisque pharetra ac nunc at tincidunt. Nulla vel ipsum nec elit blandit hendrerit. Quisque magna eros, imperdiet non elementum id, blandit nec eros. Etiam pharetra condimentum mi, sit amet dictum dolor vulputate ut. Nam pellentesque velit a ullamcorper condimentum. Integer orci dui, elementum non augue non, accumsan facilisis augue. Phasellus pharetra lorem et eros vehicula varius. Vestibulum elementum nunc eget sagittis laoreet. Suspendisse mauris massa, aliquet sed eros ac, tempus elementum nisl. Integer vel congue libero, at sagittis dui. Aliquam viverra nisl dolor, ac volutpat neque maximus vel. Etiam faucibus fermentum nulla malesuada rutrum. Pellentesque imperdiet tincidunt augue. Phasellus sagittis quis justo gravida placerat. Praesent congue mattis nulla, vitae vehicula tortor efficitur in. Maecenas cursus odio risus, dictum molestie enim pulvinar ut. Praesent nibh erat, accumsan a tellus vel, fringilla ultrices sem. Donec vel enim a orci mollis scelerisque. Mauris at imperdiet metus. Nulla commodo fermentum ex a varius. Morbi ac quam non nisl pellentesque feugiat. Praesent a aliquet elit, vitae imperdiet felis. Donec bibendum ipsum metus, quis rhoncus orci convallis at. Duis pharetra nisl id blandit malesuada. Donec sodales a eros fringilla congue. Etiam eleifend massa non sapien viverra fringilla. Vivamus tempor sodales ante eu finibus. Phasellus sit amet elementum diam. Phasellus eget diam diam. Nunc rutrum lacus ut elementum congue. Donec justo felis, tempus ac sodales vitae, faucibus sit amet nibh. Nam consequat sit amet nisi a hendrerit. Ut auctor non lectus eu semper. Curabitur sollicitudin libero vitae ante pulvinar, vel laoreet nunc finibus. Praesent vel convallis est. Interdum et malesuada fames ac ante ipsum primis in faucibus. Morbi efficitur odio ac tortor consequat, eget vehicula odio vulputate. Nunc ut eros ante. Donec ornare mi sit amet enim porttitor, a tincidunt mauris laoreet. Aenean scelerisque eu eros nec euismod. Fusce ut turpis turpis. Integer justo nibh, efficitur eu dignissim at, mattis eu arcu. Curabitur luctus libero fringilla risus bibendum tincidunt. Morbi ullamcorper, leo ut tincidunt posuere, lacus augue placerat nisl, eget lacinia eros ante sed risus. Vestibulum neque ante, feugiat vel vestibulum eu, faucibus sit amet arcu. Curabitur consectetur nunc sed rutrum fringilla. Donec posuere, elit sit amet sodales sollicitudin, lacus eros mattis libero, non hendrerit lacus lacus vulputate purus. Vestibulum eget diam quis nisl interdum placerat ut in lacus. Vestibulum rutrum  dui ipsum, in elementum ipsum semper id. Etiam lacinia tellus sit amet nisi finibus, vel ornare elit vestibulum. Sed accumsan volutpat pellentesque. Donec vestibulum, felis quis vestibulum commodo, elit ligula blandit augue, et iaculis nulla velit nec nunc. Phasellus magna dui, interdum vitae nulla eget, ornare pharetra leo. Quisque ultrices posuere lorem id ultrices. Phasellus eget bibendum eros. Maecenas porttitor dictum justo, et euismod metus scelerisque eget. Vivamus et mi tincidunt, pretium augue sit amet, porta libero. Morbi luctus eu purus quis consectetur. Aliquam elementum sapien ipsum,  at imperdiet orci sagittis congue. Sed ullamcorper leo tincidunt, mollis orci non, maximus odio. Nunc id justo iaculis, ultrices velit a, cursus enim. Proin a metus vitae lorem fringilla ullamcorper. Curabitur mattis suscipit dui, vitae posuere dui posuere aliquam. Aenean sit amet posuere turpis. Morbi maximus non odio at posuere. Sed ultrices faucibus placerat. Donec sagittis lacus at sagittis mollis. Cras ut suscipit turpis. Sed vehicula, eros eget rutrum vulputate, lectus est ullamcorper mi, ac dignissim risus odio at sem. Suspendisse potenti. Morbi quis sagittis felis, ut sodales justo. Maecenas feugiat varius risus, a pulvinar mi. Aenean accumsan eros nulla, ac tincidunt erat viverra id. Integer laoreet hendrerit nulla, id varius magna tristique non. Aenean id quam nibh. Aliquam eu hendrerit urna. Curabitur at interdum dui. Praesent id sem facilisis, facilisis quam vel, consectetur sem. Orci varius natoque penatibus et magnis dis parturient montes, nascetur ridiculus mus. Aliquam convallis odio ac aliquet dignissim. Suspendisse potenti. Proin aliquet libero dui, non efficitur lectus egestas ut. Morbi sodales ultrices quam, vitae luctus elit rutrum sed. Ut sagittis ullamcorper dui non sodales. Mauris vitae orci feugiat, accumsan purus at, viverra leo. Fusce suscipit diam sit amet facilisis consectetur. Morbi luctus rhoncus dignissim. Maecenas semper magna id nunc auctor blandit. In pulvinar mattis enim a convallis. Cras aliquet urna faucibus ipsum venenatis venenatis.'}"
      ]
     },
     "execution_count": 98,
     "metadata": {},
     "output_type": "execute_result"
    }
   ],
   "source": [
    "extract(filepath='./test/document/sample-docx-file.docx')"
   ]
  }
 ],
 "metadata": {
  "kernelspec": {
   "display_name": "Python 3.10.6 64-bit",
   "language": "python",
   "name": "python3"
  },
  "language_info": {
   "codemirror_mode": {
    "name": "ipython",
    "version": 3
   },
   "file_extension": ".py",
   "mimetype": "text/x-python",
   "name": "python",
   "nbconvert_exporter": "python",
   "pygments_lexer": "ipython3",
   "version": "3.10.6"
  },
  "vscode": {
   "interpreter": {
    "hash": "aee8b7b246df8f9039afb4144a1f6fd8d2ca17a180786b69acc140d282b71a49"
   }
  }
 },
 "nbformat": 4,
 "nbformat_minor": 4
}
