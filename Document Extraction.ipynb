{
 "cells": [
  {
   "cell_type": "code",
   "execution_count": null,
   "metadata": {},
   "outputs": [],
   "source": [
    "import re\n",
    "import os\n",
    "import cv2\n",
    "import textract\n",
    "import tempfile\n",
    "import mimetypes\n",
    "import pytesseract\n",
    "import numpy as np\n",
    "\n",
    "from PIL import Image, ImageStat\n",
    "from colorthief import ColorThief\n",
    "from deskew import determine_skew\n",
    "from skimage.color import rgb2gray\n",
    "from skimage.transform import rotate\n",
    "from pdf2image import convert_from_path"
   ]
  },
  {
   "cell_type": "code",
   "execution_count": null,
   "metadata": {},
   "outputs": [],
   "source": [
    "def straighten(filepath: str = '', extension: str = '.jpg'):\n",
    "    image = cv2.imread(filepath, cv2.IMREAD_COLOR)\n",
    "    grayscale = rgb2gray(image)\n",
    "    angle = determine_skew(grayscale)\n",
    "    rotated = rotate(image, angle, resize=True) * 255\n",
    "    image = rotated.astype(np.uint8)\n",
    "\n",
    "    temp = tempfile.gettempdir() + extension\n",
    "\n",
    "    cv2.imwrite(temp, image)\n",
    "\n",
    "    return temp\n",
    "\n",
    "def colors(filepath, thumb_size=40, MSE_cutoff=22, adjust_color_bias=True):\n",
    "    thief = ColorThief(filepath)\n",
    "\n",
    "    grayscale = False\n",
    "    colorize = False\n",
    "    black_white = False\n",
    "\n",
    "    image = Image.open(filepath)\n",
    "    bands = image.getbands()\n",
    "\n",
    "    if bands == ('R', 'G', 'B') or bands == ('R', 'G', 'B', 'A'):\n",
    "        thumb = image.resize((thumb_size, thumb_size))\n",
    "        SSE, bias = 0, [0, 0, 0]\n",
    "\n",
    "        if adjust_color_bias:\n",
    "            bias = ImageStat.Stat(thumb).mean[:3]\n",
    "            bias = [b - sum(bias)/3 for b in bias]\n",
    "\n",
    "        for pixel in thumb.getdata():\n",
    "            mu = sum(pixel)/3\n",
    "            SSE += sum(\n",
    "                (pixel[i] - mu - bias[i]) *\n",
    "                (pixel[i] - mu - bias[i]) for i in [0, 1, 2]\n",
    "            )\n",
    "\n",
    "        MSE = float(SSE)/(thumb_size*thumb_size)\n",
    "\n",
    "        if MSE <= MSE_cutoff:\n",
    "            grayscale = True\n",
    "        else:\n",
    "            colorize = True\n",
    "\n",
    "    elif len(bands) == 1:\n",
    "        black_white = True\n",
    "    else:\n",
    "        pass\n",
    "\n",
    "    thief_palette = []\n",
    "\n",
    "    for palette in thief.get_palette(color_count=6):\n",
    "        palette_list = []\n",
    "\n",
    "        for pixel in palette:\n",
    "            palette_list.append(str(pixel))\n",
    "        \n",
    "        thief_palette.append('rgb({})'.format(','.join(palette_list)))\n",
    "\n",
    "    return {\n",
    "        'grayscale': grayscale,\n",
    "        'colorize': colorize,\n",
    "        'black_white': black_white,\n",
    "        'dominant': thief_palette\n",
    "    }\n",
    "\n",
    "def read_text(filepath: str = ''):\n",
    "    # Supported extension .csv, .doc, .docx, .epub, .gif, .jpg, .jpeg, .json, .html, .htm, .odt, .pdf, .pdf (scan), .png, .pptx, .rtf, .tiff, .tif, .txt, .xlsx, .xls\n",
    "\n",
    "    name, extension = os.path.splitext(filepath)\n",
    "    mime = mimetypes.guess_type(filepath)\n",
    "    mime = mime[0]\n",
    "    encoding = 'utf-8'\n",
    "    colorize = None\n",
    "\n",
    "    try:\n",
    "        colorize = colors(filepath=filepath)\n",
    "    except:\n",
    "        pass\n",
    "\n",
    "    content = textract.process(filename=filepath, encoding=encoding, extension=extension).strip()\n",
    "\n",
    "    if len(content) == 0:\n",
    "        try:\n",
    "            pages = convert_from_path(filepath)\n",
    "            page_string = ''\n",
    "\n",
    "            for _, imgBlob in enumerate(pages):\n",
    "                page_string += str(pytesseract.image_to_string(imgBlob))\n",
    "\n",
    "            if len(page_string) > 0:\n",
    "                mime = 'application/pdf'\n",
    "                extension = '.pdf'\n",
    "                content = page_string\n",
    "        except:\n",
    "            pass\n",
    "\n",
    "    if len(content) == 0:\n",
    "        straighten_image = straighten(filepath=filepath, extension=extension)\n",
    "        content = textract.process(filename=straighten_image, encoding=encoding, extension=extension).strip()\n",
    "        os.remove(straighten_image)\n",
    "\n",
    "    size = os.stat(filepath).st_size\n",
    "\n",
    "    try:\n",
    "        content = content.decode(encoding)\n",
    "    except:\n",
    "        pass\n",
    "\n",
    "    try:\n",
    "        content = str(content, encoding)\n",
    "    except:\n",
    "        pass\n",
    "\n",
    "    content = re.sub(\n",
    "        r'^([0-9])\\n([a-zA-Z])', '\\g<1>. \\g<2>', re.sub(\n",
    "            r'^([a-zA-Z])\\n\\n?([a-zA-Z])', '\\g<1>\\g<2>', re.sub(\n",
    "                r'\\.{2,}', '', re.sub(\n",
    "                    r'\\s((m{0,4}(cm|cd|d?c{0,3})(xc|xl|l?x{0,3})(ix|iv|v?i{0,3}))|(M{0,4}(CM|CD|D?C{0,3})(XC|XL|L?X{0,3})(IX|IV|V?I{0,3}))|\\d+)\\.\\s', '\\n\\g<1>. ', re.sub(\n",
    "                        r'\\[(.*?)\\]\\s?\\n(.*?)\\n', '[\\\\g<1>](\\\\g<2>)\\n', re.sub(\n",
    "                            r'((m{0,4}(cm|cd|d?c{0,3})(xc|xl|l?x{0,3})(ix|iv|v?i{0,3}))|\\d+)\\)\\n([A-Z])', '\\g<1>) \\g<6>', re.sub( \n",
    "                                r'((M{0,4}(CM|CD|D?C{0,3})(XC|XL|L?X{0,3})(IX|IV|V?I{0,3}))|\\d+)\\.\\n([A-Z])', '\\g<1>. \\g<6>', content\n",
    "                            , 0, re.MULTILINE)\n",
    "                        , 0, re.MULTILINE)\n",
    "                    , 0, re.MULTILINE)\n",
    "                , 0, re.MULTILINE)\n",
    "            , 0, re.MULTILINE)\n",
    "        , 0, re.MULTILINE)\n",
    "    , 0, re.MULTILINE)\n",
    "\n",
    "    bracket = ''\n",
    "\n",
    "    for line in content.split('\\n'):\n",
    "        hasFormula = re.search(r'\\s{2}\\s+', line)\n",
    "\n",
    "        if re.search(r'^([0-9a-zA-Z]|\\[)', line) and len(line) > 7.5 and hasFormula == None:\n",
    "            bracket += line + '\\n\\n'\n",
    "\n",
    "    content = re.sub(r'([\\w\\W]{10})\\n{2}([\\w\\W])', '\\g<1> \\g<2>', bracket).strip()\n",
    "\n",
    "    return (extension, mime, content, size, colorize)"
   ]
  },
  {
   "cell_type": "markdown",
   "metadata": {},
   "source": [
    "#### Test DOC File"
   ]
  },
  {
   "cell_type": "code",
   "execution_count": null,
   "metadata": {},
   "outputs": [],
   "source": [
    "read_text(filepath='./test/document/sample-doc-file.doc')"
   ]
  },
  {
   "cell_type": "markdown",
   "metadata": {},
   "source": [
    "#### Test DOC File"
   ]
  },
  {
   "cell_type": "code",
   "execution_count": null,
   "metadata": {},
   "outputs": [],
   "source": [
    "read_text(filepath='./test/document/sample-docx-file.docx')"
   ]
  },
  {
   "cell_type": "code",
   "execution_count": null,
   "metadata": {},
   "outputs": [],
   "source": [
    "read_text(filepath='./test/images/01-handwritten.png')"
   ]
  },
  {
   "cell_type": "code",
   "execution_count": null,
   "metadata": {},
   "outputs": [],
   "source": [
    "read_text(filepath='./test/images/02-receipt.png')"
   ]
  },
  {
   "cell_type": "code",
   "execution_count": null,
   "metadata": {},
   "outputs": [],
   "source": [
    "read_text(filepath='./test/images/03-numeric.png')"
   ]
  },
  {
   "cell_type": "code",
   "execution_count": null,
   "metadata": {},
   "outputs": [],
   "source": [
    "read_text(filepath='./test/images/04-paragraph.png')"
   ]
  },
  {
   "cell_type": "code",
   "execution_count": null,
   "metadata": {},
   "outputs": [],
   "source": [
    "read_text(filepath='./test/images/05-gradient.png')"
   ]
  },
  {
   "cell_type": "code",
   "execution_count": null,
   "metadata": {},
   "outputs": [],
   "source": [
    "read_text(filepath='./test/images/06-scan-document.pdf')"
   ]
  },
  {
   "cell_type": "code",
   "execution_count": null,
   "metadata": {},
   "outputs": [],
   "source": [
    "read_text(filepath='./test/images/07-scan-monochrome.pdf')"
   ]
  },
  {
   "cell_type": "code",
   "execution_count": null,
   "metadata": {},
   "outputs": [],
   "source": [
    "read_text(filepath='./test/images/08-book-skew.jpg')"
   ]
  },
  {
   "cell_type": "code",
   "execution_count": null,
   "metadata": {},
   "outputs": [],
   "source": [
    "read_text(filepath='./test/images/09-book-rotated.jpg')"
   ]
  },
  {
   "cell_type": "code",
   "execution_count": null,
   "metadata": {},
   "outputs": [],
   "source": [
    "read_text(filepath='./test/images/10-book-straight.jpg')"
   ]
  },
  {
   "cell_type": "code",
   "execution_count": null,
   "metadata": {},
   "outputs": [],
   "source": [
    "read_text(filepath='./test/images/11-book-small-rotated.jpg')"
   ]
  },
  {
   "cell_type": "code",
   "execution_count": null,
   "metadata": {},
   "outputs": [],
   "source": [
    "read_text(filepath='./test/images/12-book-script-straight.jpg')"
   ]
  },
  {
   "cell_type": "code",
   "execution_count": null,
   "metadata": {},
   "outputs": [],
   "source": [
    "read_text(filepath='./test/images/13-book-script-rotated.jpg')"
   ]
  },
  {
   "cell_type": "code",
   "execution_count": null,
   "metadata": {},
   "outputs": [],
   "source": [
    "read_text(filepath='./test/pdf/01-simple.pdf')"
   ]
  },
  {
   "cell_type": "code",
   "execution_count": null,
   "metadata": {},
   "outputs": [],
   "source": [
    "read_text(filepath='./test/pdf/02-text-image.pdf')"
   ]
  },
  {
   "cell_type": "code",
   "execution_count": null,
   "metadata": {},
   "outputs": [],
   "source": [
    "read_text(filepath='./test/pdf/03-invoice.pdf')"
   ]
  },
  {
   "cell_type": "code",
   "execution_count": null,
   "metadata": {},
   "outputs": [],
   "source": [
    "read_text(filepath='./test/pdf/04-journal.pdf')"
   ]
  },
  {
   "cell_type": "code",
   "execution_count": null,
   "metadata": {},
   "outputs": [],
   "source": [
    "read_text(filepath='./test/pdf/05-complex.pdf')"
   ]
  },
  {
   "cell_type": "code",
   "execution_count": null,
   "metadata": {},
   "outputs": [],
   "source": [
    "read_text(filepath='./test/xls/01-tests.xls')"
   ]
  },
  {
   "cell_type": "code",
   "execution_count": null,
   "metadata": {},
   "outputs": [],
   "source": []
  }
 ],
 "metadata": {
  "kernelspec": {
   "display_name": "Python 3.10.6 64-bit",
   "language": "python",
   "name": "python3"
  },
  "language_info": {
   "codemirror_mode": {
    "name": "ipython",
    "version": 3
   },
   "file_extension": ".py",
   "mimetype": "text/x-python",
   "name": "python",
   "nbconvert_exporter": "python",
   "pygments_lexer": "ipython3",
   "version": "3.10.6"
  },
  "vscode": {
   "interpreter": {
    "hash": "aee8b7b246df8f9039afb4144a1f6fd8d2ca17a180786b69acc140d282b71a49"
   }
  }
 },
 "nbformat": 4,
 "nbformat_minor": 4
}
