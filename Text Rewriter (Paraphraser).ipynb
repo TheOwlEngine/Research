{
 "cells": [
  {
   "cell_type": "code",
   "execution_count": 1,
   "metadata": {},
   "outputs": [
    {
     "name": "stderr",
     "output_type": "stream",
     "text": [
      "/usr/local/lib/python3.10/site-packages/tqdm/auto.py:22: TqdmWarning: IProgress not found. Please update jupyter and ipywidgets. See https://ipywidgets.readthedocs.io/en/stable/user_install.html\n",
      "  from .autonotebook import tqdm as notebook_tqdm\n"
     ]
    }
   ],
   "source": [
    "from transformers import AutoTokenizer, AutoModelForSeq2SeqLM\n",
    "from time import time\n",
    "from random import randint\n",
    "from math import ceil\n",
    "\n",
    "import torch"
   ]
  },
  {
   "cell_type": "code",
   "execution_count": 4,
   "metadata": {},
   "outputs": [],
   "source": [
    "device = torch.device(\"cuda\") if torch.cuda.is_available() else torch.device(\"cpu\")"
   ]
  },
  {
   "cell_type": "code",
   "execution_count": 5,
   "metadata": {},
   "outputs": [],
   "source": [
    "tokenizer = AutoTokenizer.from_pretrained(\"Vamsi/T5_Paraphrase_Paws\")  \n",
    "model = AutoModelForSeq2SeqLM.from_pretrained(\"Vamsi/T5_Paraphrase_Paws\").to(device)"
   ]
  },
  {
   "cell_type": "code",
   "execution_count": 6,
   "metadata": {},
   "outputs": [],
   "source": [
    "text = 'A.C. Monza is a professional football club that is based in Monza, Lombardy, Italy. The team plays in the Serie A, the first tier of Italian football, following promotion in the 2021–22 Serie B season. The club was founded in 1912 (first lineup pictured), with its first recorded win on 20 September 1912. On multiple occasions in the 1970s, the club came close to promotion to the Serie A, but were twice declared bankrupt, in 2004 and 2015. Following Silvio Berlusconi\\'s 2018 takeover of the club.'"
   ]
  },
  {
   "cell_type": "code",
   "execution_count": 7,
   "metadata": {},
   "outputs": [],
   "source": [
    "def paraphrase(sentence: str = '', level: str = 'normal'):\n",
    "    max_length = 500 if len(sentence) > 500 else len(sentence)\n",
    "\n",
    "    encoding = tokenizer.encode_plus(sentence,padding='longest', return_tensors=\"pt\")\n",
    "    input_ids, attention_masks = encoding[\"input_ids\"].to(device), encoding[\"attention_mask\"].to(device)\n",
    "\n",
    "    early_stopping = False\n",
    "\n",
    "    if level == 'normal' or level == 'creative':\n",
    "        early_stopping = True\n",
    "\n",
    "    outputs = model.generate(\n",
    "        input_ids=input_ids,\n",
    "        attention_mask=attention_masks,\n",
    "        num_return_sequences=4,\n",
    "        max_length=max_length,\n",
    "        do_sample=True,\n",
    "        top_k=int(max_length / 2),\n",
    "        top_p=0.95,\n",
    "        early_stopping=early_stopping,\n",
    "    )\n",
    "\n",
    "    shortest = ''\n",
    "    shortest_counter = max_length\n",
    "    longest = ''\n",
    "    longest_counter = 0\n",
    "\n",
    "    for output in outputs:\n",
    "        line = tokenizer.decode(output, skip_special_tokens=True, clean_up_tokenization_spaces=True)\n",
    "\n",
    "        if line[-1] == '.':\n",
    "            if len(line) <= shortest_counter:\n",
    "                shortest = line\n",
    "                shortest_counter = len(line)\n",
    "\n",
    "            if len(line) >= longest_counter:\n",
    "                longest = line\n",
    "                longest_counter = len(line)\n",
    "\n",
    "    if level in [ 'normal', 'creative', 'shortest' ]:\n",
    "        return ( shortest, len(shortest) )\n",
    "\n",
    "    return ( longest, len(longest) )"
   ]
  },
  {
   "cell_type": "code",
   "execution_count": 9,
   "metadata": {
    "scrolled": false
   },
   "outputs": [
    {
     "name": "stdout",
     "output_type": "stream",
     "text": [
      "----------------------------------------------------------------------------------------------------\n",
      "Input:  A.C. Monza is a professional football club that is based in Monza, Lombardy, Italy. The team plays in the Serie A, the first tier of Italian football, following promotion in the 2021–22 Serie B season. The club was founded in 1912 (first lineup pictured), with its first recorded win on 20 September 1912. On multiple occasions in the 1970s, the club came close to promotion to the Serie A, but were twice declared bankrupt, in 2004 and 2015. Following Silvio Berlusconi's 2018 takeover of the club.\n",
      "----------------------------------------------------------------------------------------------------\n",
      "\n",
      "----------------------------------------------------------------------------------------------------\n",
      "Level: Normal\n",
      "----------------------------------------------------------------------------------------------------\n",
      "A.C. Monza is a professional football club based in Monza, Lombardy, Italy, playing in the Serie A (first lineup pictured), the first Italian football division, after promotion to the Serie B during the 2021–22 season. The club was founded in 1912, but became bankrupt twice in the 1970s following Silvio Berlusconi's takeover in 2018.\n",
      "335\n",
      "----------------------------------------------------------------------------------------------------\n",
      "Elapsed:  17.421196222305298\n",
      "\n",
      "----------------------------------------------------------------------------------------------------\n",
      "Level: Creative\n",
      "----------------------------------------------------------------------------------------------------\n",
      "A.C. Monza is a professional football club based in Monza, Lombardy, Italy. The club was founded in 1912 with its first recorded win on September 20, 1912 following promotion in the 2021–22 season of Serie A. The club contested this promotion twice in the 1970s but was declared bankrupt in 2004 and 2015 following Silvio Berlusconi's takeover of the club.\n",
      "356\n",
      "----------------------------------------------------------------------------------------------------\n",
      "Elapsed:  16.243560791015625\n",
      "\n",
      "----------------------------------------------------------------------------------------------------\n",
      "Level: Fluent\n",
      "----------------------------------------------------------------------------------------------------\n",
      "A.C. Monza is a professional football club in Monza, Lombardy, Italy. The club plays in the Serie A (first lineup pictured) following promotion to the Serie B in the 2021–22 season of Italian football. The club was founded on several occasions in the 1970s but was declared bankrupt twice – in 2004 and in 2015 – after Silvio Berlusconi took over the club in 2018.\n",
      "364\n",
      "----------------------------------------------------------------------------------------------------\n",
      "Elapsed:  17.28861165046692\n",
      "\n",
      "----------------------------------------------------------------------------------------------------\n",
      "Level: Longest\n",
      "----------------------------------------------------------------------------------------------------\n",
      "A.C. Monza is a professional football club based in Monza, Lombardy, Italy. The team plays in the Serie A, the first tier of Italian football following promotion to the Serie B in the 2021–22 season. The club was founded in 1912 (first lineup pictured) with its first published win on September 20, 1912, but was declared bankrupt twice in 2004 and in 2015 following Silvio Berlusconi's 2018 takeover of the club.\n",
      "413\n",
      "----------------------------------------------------------------------------------------------------\n",
      "Elapsed:  17.39837908744812\n",
      "\n",
      "----------------------------------------------------------------------------------------------------\n",
      "Level: Shortest\n",
      "----------------------------------------------------------------------------------------------------\n",
      "A.C. Monza is a professional football club based in Monza, Lombardy, Italy, where it plays in the first tier of Italian football Serie A following promotion in the 2021-22 Serie B season. The club was founded on multiple occasions in the 1970s to qualify for Serie A, but was declared bankrupt twice in 2004 and 2015 following Silvio Berlusconi's 2018 acquisition of the club.\n",
      "376\n",
      "----------------------------------------------------------------------------------------------------\n",
      "Elapsed:  18.724103927612305\n",
      "\n"
     ]
    }
   ],
   "source": [
    "print(\"-\"*100)\n",
    "print(\"Input: \", text)\n",
    "print(\"-\"*100)\n",
    "\n",
    "print(\"\")\n",
    "\n",
    "print(\"-\"*100)\n",
    "print(\"Level: Normal\")\n",
    "print(\"-\"*100)\n",
    "\n",
    "start = time()\n",
    "\n",
    "results = paraphrase(sentence=text, level='normal')\n",
    "\n",
    "for line in results:\n",
    "    print(line)\n",
    "\n",
    "print(\"-\"*100)\n",
    "print(\"Elapsed: \", time() - start)\n",
    "print(\"\")\n",
    "\n",
    "print(\"-\"*100)\n",
    "print(\"Level: Creative\")\n",
    "print(\"-\"*100)\n",
    "\n",
    "start = time()\n",
    "\n",
    "results = paraphrase(sentence=text, level='creative')\n",
    "\n",
    "for line in results:\n",
    "    print(line)\n",
    "\n",
    "print(\"-\"*100)\n",
    "print(\"Elapsed: \", time() - start)\n",
    "print(\"\")\n",
    "\n",
    "print(\"-\"*100)\n",
    "print(\"Level: Fluent\")\n",
    "print(\"-\"*100)\n",
    "\n",
    "start = time()\n",
    "\n",
    "results = paraphrase(sentence=text, level='fluent')\n",
    "\n",
    "for line in results:\n",
    "    print(line)\n",
    "\n",
    "print(\"-\"*100)\n",
    "print(\"Elapsed: \", time() - start)\n",
    "print(\"\")\n",
    "\n",
    "print(\"-\"*100)\n",
    "print(\"Level: Longest\")\n",
    "print(\"-\"*100)\n",
    "\n",
    "start = time()\n",
    "\n",
    "results = paraphrase(sentence=text, level='longest')\n",
    "\n",
    "for line in results:\n",
    "    print(line)\n",
    "\n",
    "print(\"-\"*100)\n",
    "print(\"Elapsed: \", time() - start)\n",
    "print(\"\")\n",
    "\n",
    "print(\"-\"*100)\n",
    "print(\"Level: Shortest\")\n",
    "print(\"-\"*100)\n",
    "\n",
    "start = time()\n",
    "\n",
    "results = paraphrase(sentence=text, level='shortest')\n",
    "\n",
    "for line in results:\n",
    "    print(line)\n",
    "\n",
    "print(\"-\"*100)\n",
    "print(\"Elapsed: \", time() - start)\n",
    "print(\"\")"
   ]
  }
 ],
 "metadata": {
  "kernelspec": {
   "display_name": "Python 3.10.6 64-bit",
   "language": "python",
   "name": "python3"
  },
  "language_info": {
   "codemirror_mode": {
    "name": "ipython",
    "version": 3
   },
   "file_extension": ".py",
   "mimetype": "text/x-python",
   "name": "python",
   "nbconvert_exporter": "python",
   "pygments_lexer": "ipython3",
   "version": "3.10.6"
  },
  "vscode": {
   "interpreter": {
    "hash": "aee8b7b246df8f9039afb4144a1f6fd8d2ca17a180786b69acc140d282b71a49"
   }
  }
 },
 "nbformat": 4,
 "nbformat_minor": 4
}
