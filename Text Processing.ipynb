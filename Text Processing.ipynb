{
 "cells": [
  {
   "cell_type": "code",
   "execution_count": 1,
   "metadata": {},
   "outputs": [],
   "source": [
    "import re\n",
    "import json\n",
    "import pycld2\n",
    "\n",
    "from time import time, sleep\n",
    "from nltk.corpus import stopwords\n",
    "from nltk.tokenize import word_tokenize, sent_tokenize\n",
    "from random import randint\n",
    "from transformers import *\n",
    "from deep_translator import GoogleTranslator\n",
    "from vaderSentiment.vaderSentiment import SentimentIntensityAnalyzer"
   ]
  },
  {
   "cell_type": "code",
   "execution_count": 3,
   "metadata": {},
   "outputs": [
    {
     "ename": "",
     "evalue": "",
     "output_type": "error",
     "traceback": [
      "\u001b[1;31mThe Kernel crashed while executing code in the the current cell or a previous cell. Please review the code in the cell(s) to identify a possible cause of the failure. Click <a href='https://aka.ms/vscodeJupyterKernelCrash'>here</a> for more info. View Jupyter <a href='command:jupyter.viewOutput'>log</a> for further details."
     ]
    }
   ],
   "source": [
    "sentiment_model = SentimentIntensityAnalyzer()"
   ]
  },
  {
   "cell_type": "code",
   "execution_count": null,
   "metadata": {
    "scrolled": true
   },
   "outputs": [],
   "source": [
    "paraphrase_model = PegasusForConditionalGeneration.from_pretrained(\"tuner007/pegasus_paraphrase\")\n",
    "paraphrase_tokenizer = PegasusTokenizerFast.from_pretrained(\"tuner007/pegasus_paraphrase\")"
   ]
  },
  {
   "cell_type": "code",
   "execution_count": null,
   "metadata": {},
   "outputs": [],
   "source": []
  },
  {
   "cell_type": "code",
   "execution_count": 4,
   "metadata": {},
   "outputs": [],
   "source": [
    "translation_target = 'en'\n",
    "translation_original = 'auto'\n",
    "sumarizer_stopwords = set(stopwords.words(\"english\"))"
   ]
  },
  {
   "cell_type": "code",
   "execution_count": 6,
   "metadata": {},
   "outputs": [],
   "source": [
    "def text_spliter(text:str = ''):\n",
    "    normalize = re.sub(\n",
    "        r'\\[(\\d+)\\]|[^\\w\\s\\.\\:\\,\\(\\)]\\/\\\\\\$\\%\\@\\#\\!\\?\\.\\&\\^\\*\\-\\+\\=\\_', '', text\n",
    "    )\n",
    "    splited = re.split(r'\\.\\s', normalize)\n",
    "    results = []\n",
    "    \n",
    "    for item in splited:\n",
    "        item = re.sub(r'\\.$', '', item.strip().capitalize()) + '.'\n",
    "        results.append({\n",
    "            'text': item,\n",
    "            'count': len(item.split()),\n",
    "            'length': len(item),\n",
    "            'size': len(item.encode('utf-8'))\n",
    "        })\n",
    "    \n",
    "    return results\n",
    "\n",
    "def translateToTarget(text: str = ''):\n",
    "    start = time()\n",
    "    _, textBytesFound, details = pycld2.detect(text)\n",
    "    translated = GoogleTranslator(source=translation_original, target=translation_target).translate(text.lower())\n",
    "\n",
    "    return {\n",
    "        'size': textBytesFound,\n",
    "        'detected': details[0],\n",
    "        'translated': translated,\n",
    "        'elapsed': time() - start,\n",
    "    }\n",
    "\n",
    "def translateToOriginal(translated: str = '', translation_original: str = 'en'):\n",
    "    start = time()\n",
    "    original = GoogleTranslator(source=translation_target, target=translation_original).translate(translated.lower())\n",
    "\n",
    "    return {\n",
    "        'translated': original,\n",
    "        'language': translation_original,\n",
    "        'elapsed': time() - start,\n",
    "    }\n",
    "\n",
    "def sentiment(content: str = '', original_language: str = 'en'):\n",
    "    start = time()\n",
    "    score = sentiment_model.polarity_scores(content)\n",
    "    \n",
    "    return {\n",
    "        'sentences': translateToOriginal(content, original_language),\n",
    "        'polarity': score,\n",
    "        'elapsed': time() - start,\n",
    "    }\n",
    "\n",
    "def summarization(content: str = '', original_language: str = 'en'):\n",
    "    words = word_tokenize(content)\n",
    "    sentences = sent_tokenize(content)\n",
    "\n",
    "    freqTable = dict()\n",
    "    sentenceValue = dict()\n",
    "\n",
    "    for word in words:\n",
    "        word = word.lower()\n",
    "        if word in sumarizer_stopwords:\n",
    "            continue\n",
    "        if word in freqTable:\n",
    "            freqTable[word] = 1\n",
    "        else:\n",
    "            freqTable[word] = 1 \n",
    "\n",
    "    for sentence in sentences:\n",
    "        for word, freq in freqTable.items():\n",
    "            if word in sentence.lower():\n",
    "                if sentence in sentenceValue:\n",
    "                    sentenceValue[sentence] += freq\n",
    "                else: sentenceValue[sentence] = freq \n",
    "\n",
    "        sumValues = 0\n",
    "\n",
    "        for sentence in sentenceValue:\n",
    "            sumValues += sentenceValue[sentence] \n",
    "\n",
    "    average = int(sumValues / len(sentenceValue)) \n",
    "\n",
    "    summary = ''\n",
    "    \n",
    "    for sentence in sentences:\n",
    "        if (sentence in sentenceValue) and (sentenceValue[sentence] > (0.9 * average)):\n",
    "            summary += sentence\n",
    "        \n",
    "    \n",
    "    return translateToOriginal(summary, original_language)\n",
    "\n",
    "def paraphrasedLine(sentence, num_return_sequences=5, num_beams=5):\n",
    "    inputs = paraphrase_tokenizer([sentence], truncation=True, padding=\"longest\", return_tensors=\"pt\")\n",
    "    outputs = paraphrase_model.generate(\n",
    "        **inputs,\n",
    "        num_beams=num_beams,\n",
    "        num_return_sequences=num_return_sequences,\n",
    "    )\n",
    "\n",
    "    return paraphrase_tokenizer.batch_decode(outputs, skip_special_tokens=True)\n",
    "\n",
    "def paraphrased(content: str = '', original_language: str = 'en'):\n",
    "    start = time()\n",
    "    paraphrases = paraphrasedLine(content, num_beams=5, num_return_sequences=5)\n",
    "#     result = paraphrases[randint(0, 2)]\n",
    "#     results = {\n",
    "#         'translated': translateToOriginal(result, original_language),\n",
    "#         'elapsed': time() - start\n",
    "#     }\n",
    "        \n",
    "    print('elapsed', time() - start)\n",
    "    return paraphrases"
   ]
  },
  {
   "cell_type": "code",
   "execution_count": null,
   "metadata": {},
   "outputs": [],
   "source": []
  },
  {
   "cell_type": "code",
   "execution_count": 7,
   "metadata": {},
   "outputs": [],
   "source": [
    "source_content = 'Izaac Hindom adalah seorang birokrat dan politikus Indonesia yang menjabat sebagai Gubernur Irian Jaya (sekarang Papua) dari tahun 1982 sampai 1988. Lahir di Fakfak, Hindom memulai pendidikannya di sekolah Belanda untuk orang asli Papua dan menempuh pendidikan kejuruan dalam bidang kepamongprajaan. Hindom bekerja dalam berbagai jabatan pegawai negeri di tingkat distrik pada masa Nugini Belanda. Ia juga mencalonkan diri sebagai anggota Dewan Nugini tetapi tidak terpilih. Setelah Nugini Belanda menjadi bagian dari Indonesia, Hindom diangkat menjadi anggota Badan Pemerintahan Harian pada tahun 1965 dan terpilih menjadi anggota Dewan Perwakilan Rakyat selama dua periode pada tahun 1971 dan 1977. Dia mengakhiri masa jabatan keduanya sebagai anggota Dewan setelah diangkat sebagai wakil gubernur pada tahun 1980 dan menjadi gubernur dua tahun kemudian setelah pendahulunya meninggal.'"
   ]
  },
  {
   "cell_type": "code",
   "execution_count": 8,
   "metadata": {
    "scrolled": true
   },
   "outputs": [
    {
     "name": "stdout",
     "output_type": "stream",
     "text": [
      "[\n",
      "  {\n",
      "    \"text\": \"Izaac hindom adalah seorang birokrat dan politikus indonesia yang menjabat sebagai gubernur irian jaya (sekarang papua) dari tahun 1982 sampai 1988.\",\n",
      "    \"count\": 21,\n",
      "    \"length\": 148,\n",
      "    \"size\": 148\n",
      "  },\n",
      "  {\n",
      "    \"text\": \"Lahir di fakfak, hindom memulai pendidikannya di sekolah belanda untuk orang asli papua dan menempuh pendidikan kejuruan dalam bidang kepamongprajaan.\",\n",
      "    \"count\": 20,\n",
      "    \"length\": 150,\n",
      "    \"size\": 150\n",
      "  },\n",
      "  {\n",
      "    \"text\": \"Hindom bekerja dalam berbagai jabatan pegawai negeri di tingkat distrik pada masa nugini belanda.\",\n",
      "    \"count\": 14,\n",
      "    \"length\": 97,\n",
      "    \"size\": 97\n",
      "  },\n",
      "  {\n",
      "    \"text\": \"Ia juga mencalonkan diri sebagai anggota dewan nugini tetapi tidak terpilih.\",\n",
      "    \"count\": 11,\n",
      "    \"length\": 76,\n",
      "    \"size\": 76\n",
      "  },\n",
      "  {\n",
      "    \"text\": \"Setelah nugini belanda menjadi bagian dari indonesia, hindom diangkat menjadi anggota badan pemerintahan harian pada tahun 1965 dan terpilih menjadi anggota dewan perwakilan rakyat selama dua periode pada tahun 1971 dan 1977.\",\n",
      "    \"count\": 32,\n",
      "    \"length\": 225,\n",
      "    \"size\": 225\n",
      "  },\n",
      "  {\n",
      "    \"text\": \"Dia mengakhiri masa jabatan keduanya sebagai anggota dewan setelah diangkat sebagai wakil gubernur pada tahun 1980 dan menjadi gubernur dua tahun kemudian setelah pendahulunya meninggal.\",\n",
      "    \"count\": 25,\n",
      "    \"length\": 186,\n",
      "    \"size\": 186\n",
      "  }\n",
      "]\n"
     ]
    }
   ],
   "source": [
    "splited = text_spliter(source_content)\n",
    "\n",
    "print(json.dumps(splited, indent = 2))"
   ]
  },
  {
   "cell_type": "code",
   "execution_count": 9,
   "metadata": {},
   "outputs": [
    {
     "data": {
      "text/plain": [
       "{'size': 849,\n",
       " 'detected': ('INDONESIAN', 'id', 99, 1101.0),\n",
       " 'translated': \"Izaac Hindum is an Indonesian bureaucrat and politician who served as governor of Irian Jaya (now Papua) from 1982 to 1988. Born in Fakfak, Hindum began his education at a Dutch school for Papuans and pursued a vocational education in civil service. Hindum worked in various civil service positions at the district level during the Dutch New Guinea era. He also ran for the New Guinea council but was not elected. After Dutch New Guinea became part of Indonesia, Hindom was appointed a member of the daily governing body in 1965 and was elected to the People's Representative Council for two terms in 1971 and 1977. He ended his second term as a member of the council after being appointed deputy governor in 1980. and became governor two years later after his predecessor died.\",\n",
       " 'elapsed': 1.653182029724121}"
      ]
     },
     "execution_count": 9,
     "metadata": {},
     "output_type": "execute_result"
    }
   ],
   "source": [
    "english_content = translateToTarget(source_content)\n",
    "\n",
    "english_content"
   ]
  },
  {
   "cell_type": "code",
   "execution_count": 10,
   "metadata": {},
   "outputs": [],
   "source": [
    "translated_content = english_content['translated']\n",
    "original_language = english_content['detected'][1]"
   ]
  },
  {
   "cell_type": "code",
   "execution_count": 11,
   "metadata": {},
   "outputs": [
    {
     "data": {
      "text/plain": [
       "{'translated': 'izaac hindum adalah seorang birokrat dan politisi indonesia yang menjabat sebagai gubernur irian jaya (sekarang papua) dari tahun 1982 hingga 1988. lahir di fakfak, hindum memulai pendidikannya di sekolah belanda untuk orang papua dan menempuh pendidikan kejuruan di bidang pamong praja. hindum bekerja di berbagai posisi pegawai negeri di tingkat kabupaten selama era nugini belanda. dia juga mencalonkan diri sebagai dewan guinea baru tetapi tidak terpilih. setelah nugini belanda menjadi bagian dari indonesia, hindom diangkat menjadi anggota harian pada tahun 1965 dan terpilih menjadi dewan perwakilan rakyat untuk dua periode pada tahun 1971 dan 1977. ia mengakhiri masa jabatan keduanya sebagai anggota dewan setelah diangkat menjadi wakil gubernur pada tahun 1980. dan menjadi gubernur dua tahun kemudian setelah pendahulunya meninggal.',\n",
       " 'language': 'id',\n",
       " 'elapsed': 0.5546519756317139}"
      ]
     },
     "execution_count": 11,
     "metadata": {},
     "output_type": "execute_result"
    }
   ],
   "source": [
    "souce_content = translateToOriginal(translated_content, original_language)\n",
    "\n",
    "souce_content"
   ]
  },
  {
   "cell_type": "code",
   "execution_count": 12,
   "metadata": {},
   "outputs": [
    {
     "name": "stdout",
     "output_type": "stream",
     "text": [
      "{\n",
      "  \"sentences\": {\n",
      "    \"translated\": \"izaac hindum adalah seorang birokrat dan politisi Indonesia yang menjabat sebagai gubernur irian jaya (sekarang papua) dari tahun 1982 hingga 1988\",\n",
      "    \"language\": \"id\",\n",
      "    \"elapsed\": 0.8052318096160889\n",
      "  },\n",
      "  \"polarity\": {\n",
      "    \"neg\": 0.0,\n",
      "    \"neu\": 1.0,\n",
      "    \"pos\": 0.0,\n",
      "    \"compound\": 0.0\n",
      "  },\n",
      "  \"elapsed\": 0.8067431449890137\n",
      "}\n",
      "{\n",
      "  \"sentences\": {\n",
      "    \"translated\": \"lahir di fakfak, hindum memulai pendidikannya di sekolah belanda untuk orang papua dan menempuh pendidikan kejuruan di pamong praja\",\n",
      "    \"language\": \"id\",\n",
      "    \"elapsed\": 0.5193290710449219\n",
      "  },\n",
      "  \"polarity\": {\n",
      "    \"neg\": 0.0,\n",
      "    \"neu\": 1.0,\n",
      "    \"pos\": 0.0,\n",
      "    \"compound\": 0.0\n",
      "  },\n",
      "  \"elapsed\": 0.5195009708404541\n",
      "}\n",
      "{\n",
      "  \"sentences\": {\n",
      "    \"translated\": \"hindum bekerja di berbagai posisi pegawai negeri di tingkat kabupaten selama era nugini belanda\",\n",
      "    \"language\": \"id\",\n",
      "    \"elapsed\": 0.5915110111236572\n",
      "  },\n",
      "  \"polarity\": {\n",
      "    \"neg\": 0.0,\n",
      "    \"neu\": 1.0,\n",
      "    \"pos\": 0.0,\n",
      "    \"compound\": 0.0\n",
      "  },\n",
      "  \"elapsed\": 0.5916879177093506\n",
      "}\n",
      "{\n",
      "  \"sentences\": {\n",
      "    \"translated\": \"dia juga mencalonkan diri sebagai dewan guinea baru tetapi tidak terpilih\",\n",
      "    \"language\": \"id\",\n",
      "    \"elapsed\": 0.9429240226745605\n",
      "  },\n",
      "  \"polarity\": {\n",
      "    \"neg\": 0.0,\n",
      "    \"neu\": 1.0,\n",
      "    \"pos\": 0.0,\n",
      "    \"compound\": 0.0\n",
      "  },\n",
      "  \"elapsed\": 0.9430460929870605\n",
      "}\n",
      "{\n",
      "  \"sentences\": {\n",
      "    \"translated\": \"setelah nugini belanda menjadi bagian dari indonesia, hindom diangkat menjadi anggota badan pemerintahan harian pada tahun 1965 dan terpilih menjadi dewan perwakilan rakyat untuk dua periode pada tahun 1971 dan 1977\",\n",
      "    \"language\": \"id\",\n",
      "    \"elapsed\": 0.7333509922027588\n",
      "  },\n",
      "  \"polarity\": {\n",
      "    \"neg\": 0.0,\n",
      "    \"neu\": 1.0,\n",
      "    \"pos\": 0.0,\n",
      "    \"compound\": 0.0\n",
      "  },\n",
      "  \"elapsed\": 0.7336010932922363\n",
      "}\n",
      "{\n",
      "  \"sentences\": {\n",
      "    \"translated\": \"ia mengakhiri masa jabatan keduanya sebagai anggota dewan setelah diangkat sebagai wakil gubernur pada 1980\",\n",
      "    \"language\": \"id\",\n",
      "    \"elapsed\": 0.5725927352905273\n",
      "  },\n",
      "  \"polarity\": {\n",
      "    \"neg\": 0.0,\n",
      "    \"neu\": 1.0,\n",
      "    \"pos\": 0.0,\n",
      "    \"compound\": 0.0\n",
      "  },\n",
      "  \"elapsed\": 0.5727601051330566\n",
      "}\n",
      "{\n",
      "  \"sentences\": {\n",
      "    \"translated\": \"dan menjadi gubernur dua tahun kemudian setelah pendahulunya meninggal.\",\n",
      "    \"language\": \"id\",\n",
      "    \"elapsed\": 0.9094150066375732\n",
      "  },\n",
      "  \"polarity\": {\n",
      "    \"neg\": 0.286,\n",
      "    \"neu\": 0.714,\n",
      "    \"pos\": 0.0,\n",
      "    \"compound\": -0.5574\n",
      "  },\n",
      "  \"elapsed\": 0.9095678329467773\n",
      "}\n"
     ]
    }
   ],
   "source": [
    "for line in translated_content.split('. '):\n",
    "    print(json.dumps(sentiment(line, original_language), indent = 2))"
   ]
  },
  {
   "cell_type": "code",
   "execution_count": 13,
   "metadata": {},
   "outputs": [
    {
     "name": "stdout",
     "output_type": "stream",
     "text": [
      "{\n",
      "  \"translated\": \"izaac hindum adalah seorang birokrat dan politikus indonesia yang menjabat sebagai gubernur irian jaya (sekarang papua) dari tahun 1982 hingga 1988.lahir di fakfak, hindum memulai pendidikannya di sekolah belanda untuk orang papua dan menempuh pendidikan kejuruan di bidang pamong praja.setelah belanda baru guinea menjadi bagian dari indonesia, hindom diangkat menjadi anggota badan pengurus harian pada tahun 1965 dan terpilih menjadi dewan perwakilan rakyat untuk dua periode pada tahun 1971 dan 1977. ia mengakhiri masa jabatan keduanya sebagai anggota dewan setelah diangkat menjadi wakil gubernur pada tahun 1980. dan menjadi gubernur dua tahun kemudian setelah pendahulunya meninggal.\",\n",
      "  \"language\": \"id\",\n",
      "  \"elapsed\": 1.238706111907959\n",
      "}\n"
     ]
    }
   ],
   "source": [
    "summarized_text = summarization(\"Izaac Hindum is an Indonesian bureaucrat and politician who served as governor of Irian Jaya (now Papua) from 1982 to 1988. Born in Fakfak, Hindum began his education at a Dutch school for Papuans and pursued a vocational education in civil service. Hindum worked in various civil service positions at the district level during the Dutch New Guinea era. He also ran for the New Guinea council but was not elected. After Dutch New Guinea became part of Indonesia, Hindom was appointed a member of the daily governing body in 1965 and was elected to the People's Representative Council for two terms in 1971 and 1977. He ended his second term as a member of the council after being appointed deputy governor in 1980. and became governor two years later after his predecessor died.\", 'id')\n",
    "\n",
    "print(json.dumps(summarized_text, indent = 2))"
   ]
  },
  {
   "cell_type": "code",
   "execution_count": 15,
   "metadata": {},
   "outputs": [
    {
     "name": "stdout",
     "output_type": "stream",
     "text": [
      "elapsed 4.768844127655029\n",
      "[\n",
      "  \"Izaac Hindum was the governor of Irian Jaya from 1982 to 1988 and was a civil servant.\",\n",
      "  \"Izaac Hindum is an Indonesian bureaucrat and politician who served as governor of Irianjaya from 1982 to 1988\",\n",
      "  \"Izaac Hindum was the governor of Irian Jaya from 1982 to 1988 and was an Indonesian bureaucrat and politician.\",\n",
      "  \"Izaac Hindum was the governor of Irian Jaya from 1982 to 1988 and was an Indonesian bureaucrat.\",\n",
      "  \"Izaac Hindum is an Indonesian bureaucrat and politician who served as governor of Irianjaya from 1982 to 1988.\"\n",
      "]\n"
     ]
    }
   ],
   "source": [
    "paraphrased_text = paraphrased(\"Izaac Hindum is an Indonesian bureaucrat and politician who served as governor of Irian Jaya (now Papua) from 1982 to 1988 Born in Fakfak, Hindum began his education at a Dutch school for Papuans and pursued a vocational education in civil service\", 'id')\n",
    "\n",
    "print(json.dumps(paraphrased_text, indent = 2))"
   ]
  }
 ],
 "metadata": {
  "kernelspec": {
   "display_name": "Python 3.8.9 64-bit",
   "language": "python",
   "name": "python3"
  },
  "language_info": {
   "codemirror_mode": {
    "name": "ipython",
    "version": 3
   },
   "file_extension": ".py",
   "mimetype": "text/x-python",
   "name": "python",
   "nbconvert_exporter": "python",
   "pygments_lexer": "ipython3",
   "version": "3.8.9"
  },
  "vscode": {
   "interpreter": {
    "hash": "31f2aee4e71d21fbe5cf8b01ff0e069b9275f58929596ceb00d14d90e3e16cd6"
   }
  }
 },
 "nbformat": 4,
 "nbformat_minor": 4
}
