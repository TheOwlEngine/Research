{
 "cells": [
  {
   "cell_type": "code",
   "execution_count": 1,
   "metadata": {},
   "outputs": [],
   "source": [
    "import re\n",
    "import json\n",
    "import html_to_json\n",
    "import sys, fitz\n",
    "import spacy # flair / nltk (NER)\n",
    "\n",
    "import en_core_web_sm\n",
    "\n",
    "from time import time\n",
    "from markdown import markdown as markdown_to_html"
   ]
  },
  {
   "cell_type": "code",
   "execution_count": 2,
   "metadata": {},
   "outputs": [],
   "source": [
    "nlp = en_core_web_sm.load()"
   ]
  },
  {
   "cell_type": "code",
   "execution_count": 34,
   "metadata": {
    "scrolled": false
   },
   "outputs": [],
   "source": [
    "def read_text(file: str = ''):\n",
    "    reader = fitz.open(file)\n",
    "\n",
    "    isJournal = False\n",
    "    content = ''\n",
    "\n",
    "    doc = fitz.open(file)\n",
    "\n",
    "    for page in doc:\n",
    "\n",
    "        text = page.get_text().encode(\"utf8\")  # get plain text (is in UTF-8)\n",
    "        decoded = text.decode()\n",
    "        \n",
    "        result = re.sub(\n",
    "            r'([\\w\\W])\\s\\n([\\w\\W])|(\\-)\\n([\\w\\W])', '\\g<1> \\g<2>', decoded\n",
    "        , 0, re.MULTILINE)\n",
    "        \n",
    "        hasJournalKeyword = re.search(r'\\s?(Abstract|Abstrak|ABSTRACT|ABSTRAK)\\s?', result)\n",
    "\n",
    "        if hasJournalKeyword:\n",
    "            isJournal = True\n",
    "        \n",
    "        content += result\n",
    "\n",
    "    return ( isJournal, content )\n",
    "\n",
    "def extract(file: str = ''):\n",
    "    \n",
    "    ( journal, content ) = read_text(file)\n",
    "\n",
    "    result = ''\n",
    "    \n",
    "    if journal:\n",
    "\n",
    "        content = re.sub(\n",
    "            r'^([0-9])\\n([a-zA-Z])', '\\g<1>. \\g<2>', re.sub(\n",
    "                r'^([a-zA-Z])\\n([a-zA-Z])', '\\g<1>\\g<2>', re.sub(\n",
    "                    r'\\.{2,}', '', re.sub(\n",
    "                        r'\\s((m{0,4}(cm|cd|d?c{0,3})(xc|xl|l?x{0,3})(ix|iv|v?i{0,3}))|(M{0,4}(CM|CD|D?C{0,3})(XC|XL|L?X{0,3})(IX|IV|V?I{0,3}))|\\d+)\\.\\s', '\\n\\g<1>. ', re.sub(\n",
    "                            r'\\[(.*)\\]\\s?\\n(.*?)\\n', '[\\\\g<1>](\\\\g<2>)\\n', re.sub(\n",
    "                                r'((m{0,4}(cm|cd|d?c{0,3})(xc|xl|l?x{0,3})(ix|iv|v?i{0,3}))|\\d+)\\)\\n([A-Z])', '\\g<1>) \\g<6>', re.sub( \n",
    "                                    r'((M{0,4}(CM|CD|D?C{0,3})(XC|XL|L?X{0,3})(IX|IV|V?I{0,3}))|\\d+)\\.\\n([A-Z])', '\\g<1>. \\g<6>', content\n",
    "                                , 0, re.MULTILINE)\n",
    "                            , 0, re.MULTILINE)\n",
    "                        , 0, re.MULTILINE)\n",
    "                    , 0, re.MULTILINE)\n",
    "                , 0, re.MULTILINE)\n",
    "            , 0, re.MULTILINE)\n",
    "        , 0, re.MULTILINE)\n",
    "\n",
    "        result = ''\n",
    "\n",
    "        for line in content.split('\\n'):\n",
    "            hasFormula = re.search(r'\\s{2}\\s+', line)\n",
    "\n",
    "            if re.search(r'^([0-9a-zA-Z]|\\[)', line) and len(line) > 7.5 and hasFormula == None:\n",
    "                result += line + '\\n\\n'\n",
    "\n",
    "        result = re.sub(r'([\\w\\W]{30})\\n{2}([a-z])', '\\g<1> \\g<2>', result)\n",
    "\n",
    "    else:\n",
    "        \n",
    "        result = content\n",
    "    \n",
    "    nlp_entities = []\n",
    "    nlp_result = nlp(result)\n",
    "    \n",
    "    for item in nlp_result.ents:\n",
    "        nlp_entities.append({\n",
    "            'label': item.label_,\n",
    "            'text': item.text\n",
    "        })\n",
    "    \n",
    "    print(result, nlp_entities)"
   ]
  },
  {
   "cell_type": "code",
   "execution_count": 10,
   "metadata": {},
   "outputs": [
    {
     "name": "stdout",
     "output_type": "stream",
     "text": [
      "\n"
     ]
    }
   ],
   "source": []
  },
  {
   "cell_type": "code",
   "execution_count": null,
   "metadata": {},
   "outputs": [],
   "source": []
  },
  {
   "cell_type": "code",
   "execution_count": 35,
   "metadata": {
    "scrolled": true
   },
   "outputs": [
    {
     "name": "stdout",
     "output_type": "stream",
     "text": [
      " \n",
      " PDF Test File  \n",
      "Congratulations, your computer is equipped with a PDF (Portable Document Format) reader!  You should be able to view any of the PDF documents and forms available on our site.  PDF forms are indicated by these icons:   or  .    \n",
      "Yukon Department of Education Box 2703 Whitehorse,Yukon Canada Y1A 2C6  \n",
      "Please visit our website at:  http://www.education.gov.yk.ca/\n",
      "   \n",
      " [{'label': 'ORG', 'text': 'PDF Test File'}, {'label': 'ORG', 'text': 'PDF'}, {'label': 'PERSON', 'text': 'Document Format'}, {'label': 'ORG', 'text': 'PDF'}, {'label': 'ORG', 'text': 'PDF'}, {'label': 'ORG', 'text': 'Yukon Department of Education'}, {'label': 'CARDINAL', 'text': '2703'}, {'label': 'ORG', 'text': 'Yukon Canada'}, {'label': 'CARDINAL', 'text': '2C6'}]\n"
     ]
    }
   ],
   "source": [
    "extract('./test/pdf/01-simple.pdf')"
   ]
  },
  {
   "cell_type": "code",
   "execution_count": null,
   "metadata": {
    "scrolled": true
   },
   "outputs": [],
   "source": [
    "extract('./test/pdf/02-text-image.pdf')"
   ]
  },
  {
   "cell_type": "code",
   "execution_count": null,
   "metadata": {
    "scrolled": true
   },
   "outputs": [],
   "source": [
    "extract('./test/pdf/03-invoice.pdf')"
   ]
  },
  {
   "cell_type": "code",
   "execution_count": null,
   "metadata": {
    "scrolled": true
   },
   "outputs": [],
   "source": [
    "extract('./test/pdf/04-journal.pdf')"
   ]
  },
  {
   "cell_type": "code",
   "execution_count": null,
   "metadata": {
    "scrolled": true
   },
   "outputs": [],
   "source": [
    "extract('./test/pdf/05-complex.pdf')"
   ]
  }
 ],
 "metadata": {
  "kernelspec": {
   "display_name": "Python 3.10.6 64-bit",
   "language": "python",
   "name": "python3"
  },
  "language_info": {
   "codemirror_mode": {
    "name": "ipython",
    "version": 3
   },
   "file_extension": ".py",
   "mimetype": "text/x-python",
   "name": "python",
   "nbconvert_exporter": "python",
   "pygments_lexer": "ipython3",
   "version": "3.10.6"
  },
  "vscode": {
   "interpreter": {
    "hash": "aee8b7b246df8f9039afb4144a1f6fd8d2ca17a180786b69acc140d282b71a49"
   }
  }
 },
 "nbformat": 4,
 "nbformat_minor": 4
}
